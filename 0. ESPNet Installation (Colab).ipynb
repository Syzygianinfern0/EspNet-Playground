{
 "cells": [
  {
   "cell_type": "markdown",
   "metadata": {},
   "source": [
    "# Prerequisites"
   ]
  },
  {
   "cell_type": "code",
   "execution_count": 18,
   "metadata": {
    "colab": {
     "base_uri": "https://localhost:8080/",
     "height": 272
    },
    "colab_type": "code",
    "id": "xzDEhwzAQ3BL",
    "outputId": "52093fa7-92b6-4851-af46-3665474bb225"
   },
   "outputs": [
    {
     "name": "stdout",
     "output_type": "stream",
     "text": [
      "Looking in links: https://download.pytorch.org/whl/torch_stable.html\n",
      "Collecting torch===1.4.0\n",
      "\u001b[?25l  Downloading https://files.pythonhosted.org/packages/24/19/4804aea17cd136f1705a5e98a00618cb8f6ccc375ad8bfa437408e09d058/torch-1.4.0-cp36-cp36m-manylinux1_x86_64.whl (753.4MB)\n",
      "\u001b[K     |████████████████████████████████| 753.4MB 22kB/s \n",
      "\u001b[31mERROR: torchvision 0.6.0+cu101 has requirement torch==1.5.0, but you'll have torch 1.4.0 which is incompatible.\u001b[0m\n",
      "\u001b[?25hInstalling collected packages: torch\n",
      "  Found existing installation: torch 1.5.0+cu101\n",
      "    Uninstalling torch-1.5.0+cu101:\n",
      "      Successfully uninstalled torch-1.5.0+cu101\n",
      "Successfully installed torch-1.4.0\n"
     ]
    },
    {
     "data": {
      "application/vnd.colab-display-data+json": {
       "pip_warning": {
        "packages": [
         "torch"
        ]
       }
      }
     },
     "metadata": {
      "tags": []
     },
     "output_type": "display_data"
    }
   ],
   "source": [
    "!pip install -f https://download.pytorch.org/whl/torch_stable.html torch===1.4.0"
   ]
  },
  {
   "cell_type": "code",
   "execution_count": 3,
   "metadata": {
    "colab": {
     "base_uri": "https://localhost:8080/",
     "height": 34
    },
    "colab_type": "code",
    "id": "DuZf9ZYFSgbs",
    "outputId": "e5e2edaf-a184-4ed2-bd5b-ae61ec3449a0"
   },
   "outputs": [
    {
     "data": {
      "text/plain": [
       "('1.4.0', True)"
      ]
     },
     "execution_count": 3,
     "metadata": {
      "tags": []
     },
     "output_type": "execute_result"
    }
   ],
   "source": [
    "import torch\n",
    "torch.__version__, torch.cuda.is_available()"
   ]
  },
  {
   "cell_type": "code",
   "execution_count": 1,
   "metadata": {
    "colab": {
     "base_uri": "https://localhost:8080/",
     "height": 1000
    },
    "colab_type": "code",
    "id": "2vgFxMLuN_OW",
    "outputId": "84b9fb9e-769b-40d4-f7f6-fb2073be9eb2"
   },
   "outputs": [
    {
     "name": "stdout",
     "output_type": "stream",
     "text": [
      "Reading package lists... Done\n",
      "Building dependency tree       \n",
      "Reading state information... Done\n",
      "cmake is already the newest version (3.10.2-1ubuntu2.18.04.1).\n",
      "g++-7 is already the newest version (7.5.0-3ubuntu1~18.04).\n",
      "g++-7 set to manually installed.\n",
      "libsndfile1-dev is already the newest version (1.0.28-4ubuntu0.18.04.1).\n",
      "ffmpeg is already the newest version (7:3.4.6-0ubuntu0.18.04.1).\n",
      "The following additional packages will be installed:\n",
      "  libmagic-mgc libmagic1 libopencore-amrnb0 libopencore-amrwb0 libsox-fmt-alsa\n",
      "  libsox-fmt-base libsox3\n",
      "Suggested packages:\n",
      "  file libsox-fmt-all\n",
      "The following NEW packages will be installed:\n",
      "  bc flac libmagic-mgc libmagic1 libopencore-amrnb0 libopencore-amrwb0\n",
      "  libsox-fmt-alsa libsox-fmt-base libsox3 sox\n",
      "0 upgraded, 10 newly installed, 0 to remove and 31 not upgraded.\n",
      "Need to get 990 kB of archives.\n",
      "After this operation, 7,379 kB of additional disk space will be used.\n",
      "Get:1 http://archive.ubuntu.com/ubuntu bionic/universe amd64 libopencore-amrnb0 amd64 0.1.3-2.1 [92.0 kB]\n",
      "Get:2 http://archive.ubuntu.com/ubuntu bionic/universe amd64 libopencore-amrwb0 amd64 0.1.3-2.1 [45.8 kB]\n",
      "Get:3 http://archive.ubuntu.com/ubuntu bionic-updates/main amd64 libmagic-mgc amd64 1:5.32-2ubuntu0.4 [184 kB]\n",
      "Get:4 http://archive.ubuntu.com/ubuntu bionic-updates/main amd64 libmagic1 amd64 1:5.32-2ubuntu0.4 [68.6 kB]\n",
      "Get:5 http://archive.ubuntu.com/ubuntu bionic/main amd64 bc amd64 1.07.1-2 [86.2 kB]\n",
      "Get:6 http://archive.ubuntu.com/ubuntu bionic/universe amd64 flac amd64 1.3.2-1 [144 kB]\n",
      "Get:7 http://archive.ubuntu.com/ubuntu bionic-updates/universe amd64 libsox3 amd64 14.4.2-3ubuntu0.18.04.1 [226 kB]\n",
      "Get:8 http://archive.ubuntu.com/ubuntu bionic-updates/universe amd64 libsox-fmt-alsa amd64 14.4.2-3ubuntu0.18.04.1 [10.6 kB]\n",
      "Get:9 http://archive.ubuntu.com/ubuntu bionic-updates/universe amd64 libsox-fmt-base amd64 14.4.2-3ubuntu0.18.04.1 [32.1 kB]\n",
      "Get:10 http://archive.ubuntu.com/ubuntu bionic-updates/universe amd64 sox amd64 14.4.2-3ubuntu0.18.04.1 [101 kB]\n",
      "Fetched 990 kB in 0s (9,254 kB/s)\n",
      "debconf: unable to initialize frontend: Dialog\n",
      "debconf: (No usable dialog-like program is installed, so the dialog based frontend cannot be used. at /usr/share/perl5/Debconf/FrontEnd/Dialog.pm line 76, <> line 10.)\n",
      "debconf: falling back to frontend: Readline\n",
      "debconf: unable to initialize frontend: Readline\n",
      "debconf: (This frontend requires a controlling tty.)\n",
      "debconf: falling back to frontend: Teletype\n",
      "dpkg-preconfigure: unable to re-open stdin: \n",
      "Selecting previously unselected package libopencore-amrnb0:amd64.\n",
      "(Reading database ... 144439 files and directories currently installed.)\n",
      "Preparing to unpack .../0-libopencore-amrnb0_0.1.3-2.1_amd64.deb ...\n",
      "Unpacking libopencore-amrnb0:amd64 (0.1.3-2.1) ...\n",
      "Selecting previously unselected package libopencore-amrwb0:amd64.\n",
      "Preparing to unpack .../1-libopencore-amrwb0_0.1.3-2.1_amd64.deb ...\n",
      "Unpacking libopencore-amrwb0:amd64 (0.1.3-2.1) ...\n",
      "Selecting previously unselected package libmagic-mgc.\n",
      "Preparing to unpack .../2-libmagic-mgc_1%3a5.32-2ubuntu0.4_amd64.deb ...\n",
      "Unpacking libmagic-mgc (1:5.32-2ubuntu0.4) ...\n",
      "Selecting previously unselected package libmagic1:amd64.\n",
      "Preparing to unpack .../3-libmagic1_1%3a5.32-2ubuntu0.4_amd64.deb ...\n",
      "Unpacking libmagic1:amd64 (1:5.32-2ubuntu0.4) ...\n",
      "Selecting previously unselected package bc.\n",
      "Preparing to unpack .../4-bc_1.07.1-2_amd64.deb ...\n",
      "Unpacking bc (1.07.1-2) ...\n",
      "Selecting previously unselected package flac.\n",
      "Preparing to unpack .../5-flac_1.3.2-1_amd64.deb ...\n",
      "Unpacking flac (1.3.2-1) ...\n",
      "Selecting previously unselected package libsox3:amd64.\n",
      "Preparing to unpack .../6-libsox3_14.4.2-3ubuntu0.18.04.1_amd64.deb ...\n",
      "Unpacking libsox3:amd64 (14.4.2-3ubuntu0.18.04.1) ...\n",
      "Selecting previously unselected package libsox-fmt-alsa:amd64.\n",
      "Preparing to unpack .../7-libsox-fmt-alsa_14.4.2-3ubuntu0.18.04.1_amd64.deb ...\n",
      "Unpacking libsox-fmt-alsa:amd64 (14.4.2-3ubuntu0.18.04.1) ...\n",
      "Selecting previously unselected package libsox-fmt-base:amd64.\n",
      "Preparing to unpack .../8-libsox-fmt-base_14.4.2-3ubuntu0.18.04.1_amd64.deb ...\n",
      "Unpacking libsox-fmt-base:amd64 (14.4.2-3ubuntu0.18.04.1) ...\n",
      "Selecting previously unselected package sox.\n",
      "Preparing to unpack .../9-sox_14.4.2-3ubuntu0.18.04.1_amd64.deb ...\n",
      "Unpacking sox (14.4.2-3ubuntu0.18.04.1) ...\n",
      "Setting up libmagic-mgc (1:5.32-2ubuntu0.4) ...\n",
      "Setting up libmagic1:amd64 (1:5.32-2ubuntu0.4) ...\n",
      "Setting up flac (1.3.2-1) ...\n",
      "Setting up libopencore-amrnb0:amd64 (0.1.3-2.1) ...\n",
      "Setting up bc (1.07.1-2) ...\n",
      "Setting up libopencore-amrwb0:amd64 (0.1.3-2.1) ...\n",
      "Setting up libsox3:amd64 (14.4.2-3ubuntu0.18.04.1) ...\n",
      "Setting up libsox-fmt-base:amd64 (14.4.2-3ubuntu0.18.04.1) ...\n",
      "Setting up libsox-fmt-alsa:amd64 (14.4.2-3ubuntu0.18.04.1) ...\n",
      "Setting up sox (14.4.2-3ubuntu0.18.04.1) ...\n",
      "Processing triggers for libc-bin (2.27-3ubuntu1) ...\n",
      "/sbin/ldconfig.real: /usr/local/lib/python3.6/dist-packages/ideep4py/lib/libmkldnn.so.0 is not a symbolic link\n",
      "\n",
      "Processing triggers for man-db (2.8.3-2ubuntu0.1) ...\n",
      "Processing triggers for mime-support (3.60ubuntu1) ...\n"
     ]
    }
   ],
   "source": [
    "!sudo apt-get install cmake sox libsndfile1-dev ffmpeg flac g++-7 bc"
   ]
  },
  {
   "cell_type": "code",
   "execution_count": 11,
   "metadata": {
    "colab": {
     "base_uri": "https://localhost:8080/",
     "height": 136
    },
    "colab_type": "code",
    "id": "HostH4dyP4iF",
    "outputId": "78259930-4313-456d-ba16-d10b468a561e"
   },
   "outputs": [
    {
     "name": "stdout",
     "output_type": "stream",
     "text": [
      "Cloning into 'espnet'...\n",
      "remote: Enumerating objects: 28, done.\u001b[K\n",
      "remote: Counting objects: 100% (28/28), done.\u001b[K\n",
      "remote: Compressing objects: 100% (27/27), done.\u001b[K\n",
      "remote: Total 59852 (delta 4), reused 17 (delta 1), pack-reused 59824\u001b[K\n",
      "Receiving objects: 100% (59852/59852), 181.49 MiB | 31.83 MiB/s, done.\n",
      "Resolving deltas: 100% (40907/40907), done.\n"
     ]
    }
   ],
   "source": [
    "!git clone https://github.com/espnet/espnet.git"
   ]
  },
  {
   "cell_type": "code",
   "execution_count": null,
   "metadata": {
    "colab": {},
    "colab_type": "code",
    "id": "I6A2DOEgQDH3"
   },
   "outputs": [],
   "source": [
    "import os\n",
    "os.chdir('espnet')"
   ]
  },
  {
   "cell_type": "markdown",
   "metadata": {},
   "source": [
    "# Installation\n",
    "(log trimmed for readability. Check [this](https://colab.research.google.com/drive/1727WlhbpNCZtG6cfNAe-bgaQumzNk0AD?usp=sharing) how it should have run)\n"
   ]
  },
  {
   "cell_type": "code",
   "execution_count": null,
   "metadata": {
    "colab": {
     "base_uri": "https://localhost:8080/",
     "height": 1000
    },
    "colab_type": "code",
    "id": "vEP_OQj2OtLb",
    "outputId": "894fbeb9-7720-43d4-897b-c65ee49ba402"
   },
   "outputs": [],
   "source": [
    "!CUDAROOT=/usr/local/cuda; \\\n",
    "export PATH=$CUDAROOT/bin:$PATH; \\\n",
    "export LD_LIBRARY_PATH=$CUDAROOT/lib64:$LD_LIBRARY_PATH; \\\n",
    "export CFLAGS=\"-I$CUDAROOT/include $CFLAGS\"; \\\n",
    "export CPATH=$CUDAROOT/include:$CPATH; \\\n",
    "export CUDA_HOME=$CUDAROOT; \\\n",
    "export CUDA_PATH=$CUDAROOT; \\\n",
    "export CC=/usr/bin/gcc-7; \\\n",
    "export CXX=/usr/bin/g++-7; \\\n",
    "ci/install_kaldi.sh; \\\n",
    "pip install -e . ; \\\n",
    "pip install cython; \\\n",
    "cd tools && git clone https://github.com/jheymann85/chainer_ctc.git; \\\n",
    "cd chainer_ctc && chmod +x install_warp-ctc.sh && ./install_warp-ctc.sh; \\\n",
    "pip install . && cd ../.. ; \\\n",
    "cd tools && git clone https://github.com/HawkAaron/warp-transducer.git; \\\n",
    "cd warp-transducer && mkdir build && cd build && cmake .. && make && cd .. ; \\\n",
    "cd pytorch_binding && python setup.py install && cd ../.. ; \\\n",
    "pip install cupy-cuda101==6.0.0 ; \\\n",
    "mkdir -p tools/venv/bin && touch tools/venv/bin/activate"
   ]
  },
  {
   "cell_type": "markdown",
   "metadata": {},
   "source": [
    "# Check Installation with"
   ]
  },
  {
   "cell_type": "code",
   "execution_count": 7,
   "metadata": {
    "colab": {
     "base_uri": "https://localhost:8080/",
     "height": 544
    },
    "colab_type": "code",
    "id": "LRVGjBQHRAVy",
    "outputId": "fadb4acd-e8a2-4fa1-a526-f8bd9fcab742"
   },
   "outputs": [
    {
     "name": "stdout",
     "output_type": "stream",
     "text": [
      "INFO: python version = 3.6.9 (default, Apr 18 2020, 01:56:04) \n",
      "[GCC 8.4.0]\n",
      "INFO: library availableness check start.\n",
      "INFO: # libraries to be checked = 8\n",
      "INFO: --> espnet is installed.\n",
      "INFO: --> kaldiio is installed.\n",
      "INFO: --> matplotlib is installed.\n",
      "INFO: --> torch is installed.\n",
      "INFO: --> chainer is installed.\n",
      "INFO: --> chainer_ctc is installed.\n",
      "INFO: --> warprnnt_pytorch is installed.\n",
      "INFO: --> cupy is installed.\n",
      "INFO: library availableness check done.\n",
      "INFO: 8 / 8 libraries are correctly installed.\n",
      "INFO: library version check start.\n",
      "INFO: # libraries to be checked = 4\n",
      "INFO: --> torch version is matched.\n",
      "INFO: --> chainer version is matched.\n",
      "INFO: --> warprnnt_pytorch version is matched.\n",
      "INFO: --> cupy version is matched.\n",
      "INFO: library version check done.\n",
      "INFO: 4 / 4 libraries are correct version.\n",
      "INFO: cuda availableness check start.\n",
      "INFO: --> cuda is available in torch.\n",
      "INFO: --> cudnn is available in torch.\n",
      "INFO: --> cuda is available in chainer.\n",
      "INFO: --> cudnn is available in chainer.\n",
      "INFO: --> nccl is installed.\n",
      "WARNING: --> it seems that only single gpu is available.\n",
      "WARNING: --> maybe your machine has only one gpu.\n",
      "INFO: cuda availableness check done.\n"
     ]
    }
   ],
   "source": [
    "!python tools/check_install.py --torch-version 1.4.0"
   ]
  },
  {
   "cell_type": "markdown",
   "metadata": {},
   "source": [
    "## Basic ASR Script\n",
    "(log trimmed for readability. Check [this](https://colab.research.google.com/drive/1727WlhbpNCZtG6cfNAe-bgaQumzNk0AD?usp=sharing) how it should have run)\n"
   ]
  },
  {
   "cell_type": "code",
   "execution_count": null,
   "metadata": {
    "colab": {
     "base_uri": "https://localhost:8080/",
     "height": 1000
    },
    "colab_type": "code",
    "id": "WvlrQVy6VT7E",
    "outputId": "bfc39c30-e078-4379-c86b-bbc2327da947"
   },
   "outputs": [],
   "source": [
    "!cd egs/an4/asr1/; ./run.sh"
   ]
  }
 ],
 "metadata": {
  "accelerator": "GPU",
  "colab": {
   "collapsed_sections": [],
   "name": "ESPNet Installation.ipynb",
   "provenance": []
  },
  "kernelspec": {
   "display_name": "Python 3",
   "language": "python",
   "name": "python3"
  },
  "language_info": {
   "codemirror_mode": {
    "name": "ipython",
    "version": 3
   },
   "file_extension": ".py",
   "mimetype": "text/x-python",
   "name": "python",
   "nbconvert_exporter": "python",
   "pygments_lexer": "ipython3",
   "version": "3.7.7"
  }
 },
 "nbformat": 4,
 "nbformat_minor": 4
}
