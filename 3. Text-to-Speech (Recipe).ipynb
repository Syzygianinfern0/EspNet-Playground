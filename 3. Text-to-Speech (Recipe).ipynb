{
 "cells": [
  {
   "cell_type": "markdown",
   "metadata": {
    "colab_type": "text",
    "id": "QhW6ey37Kj7y"
   },
   "source": [
    "## Run the recipe\n",
    "\n",
    "Now ready to run the recipe!   \n",
    "We use the most simplest recipe `egs/an4/tts1` as an example.  \n",
    "> Unfortunately, `egs/an4/tts1` is too small to generate reasonable speech.   \n",
    "> But you can understand the flow or TTS recipe through this recipe since all of the TTS recipes has the exactly same flow.\n"
   ]
  },
  {
   "cell_type": "code",
   "execution_count": 1,
   "metadata": {
    "colab": {},
    "colab_type": "code",
    "id": "z2G_kA8VpM8X"
   },
   "outputs": [],
   "source": [
    "# Let's go to an4 recipe!\n",
    "import os\n",
    "os.chdir(\"espnet/egs/an4/tts1\")"
   ]
  },
  {
   "cell_type": "markdown",
   "metadata": {
    "colab_type": "text",
    "id": "kK-qFOFupi-I"
   },
   "source": [
    "Before running the recipe, let us check the recipe structure."
   ]
  },
  {
   "cell_type": "code",
   "execution_count": 2,
   "metadata": {
    "colab": {
     "base_uri": "https://localhost:8080/",
     "height": 295
    },
    "colab_type": "code",
    "id": "X6T2rNlSpVMV",
    "outputId": "2cc5b211-b004-43b8-afae-d15672464f90"
   },
   "outputs": [
    {
     "name": "stdout",
     "output_type": "stream",
     "text": [
      "\u001b[01;34m.\u001b[00m\n",
      "├── \u001b[01;32mcmd.sh\u001b[00m\n",
      "├── \u001b[01;34mconf\u001b[00m\n",
      "├── \u001b[01;34mdata\u001b[00m\n",
      "├── \u001b[01;34mdownloads\u001b[00m\n",
      "├── \u001b[01;34mdump\u001b[00m\n",
      "├── \u001b[01;34mexp\u001b[00m\n",
      "├── \u001b[01;36mlocal\u001b[00m -> \u001b[01;34m../asr1/local\u001b[00m\n",
      "├── \u001b[01;32mpath.sh\u001b[00m\n",
      "├── \u001b[01;32mrun.sh\u001b[00m\n",
      "├── \u001b[01;36msteps\u001b[00m -> \u001b[01;34m../../../tools/kaldi/egs/wsj/s5/steps\u001b[00m\n",
      "└── \u001b[01;36mutils\u001b[00m -> \u001b[01;34m../../../tools/kaldi/egs/wsj/s5/utils\u001b[00m\n",
      "\n",
      "8 directories, 3 files\n"
     ]
    }
   ],
   "source": [
    "!tree -L 1"
   ]
  },
  {
   "cell_type": "markdown",
   "metadata": {
    "colab_type": "text",
    "id": "aGX_y4RMpqIK"
   },
   "source": [
    "Each recipe has the same structure and files.  \n",
    "\n",
    "- **run.sh**: Main script of the recipe. Once you run this script, all of the processing will be conducted from data download, preparation, feature extraction, training, and decoding.\n",
    "- **cmd.sh**: Command configuration source file about how-to-run each processing. You can modify this script if you want to run the script through job control system e.g. Slurm or Torque.\n",
    "- **path.sh**: Path configuration source file. Basically, we do not have to touch.\n",
    "- **conf/**: Directory containing configuration files.\n",
    "- **local/**: Directory containing the recipe-specific scripts e.g. data preparation.\n",
    "- **steps/** and **utils/**: Directory containing kaldi tools.\n",
    "\n",
    "Main script **run.sh** consists of several stages:\n",
    "\n",
    "- **stage -1**: Download data if the data is available online.\n",
    "- **stage 0**: Prepare data to make kaldi-stype data directory.\n",
    "- **stage 1**: Extract feature vector, calculate statistics, and perform normalization.\n",
    "- **stage 2**: Prepare a dictionary and make json files for training.\n",
    "- **stage 3**: Train the E2E-TTS network.\n",
    "- **stage 4**: Decode mel-spectrogram using the trained network.\n",
    "- **stage 5**: Generate a waveform from a generated mel-spectrogram using Griffin-Lim.\n",
    "\n",
    "Currently, we support the following networks:\n",
    "- Tacotron2: [Natural TTS Synthesis by Conditioning WaveNet on Mel Spectrogram Predictions](https://arxiv.org/abs/1712.05884)\n",
    "- Transformer: [Neural Speech Synthesis with Transformer Network](https://arxiv.org/pdf/1809.08895.pdf)\n",
    "- FastSpeech: [FastSpeech: Fast, Robust and Controllable Text to Speech](https://arxiv.org/pdf/1905.09263.pdf)\n",
    "\n",
    "Let us check each stage step-by-step via **--stage** and **--stop_stage** options!\n"
   ]
  },
  {
   "cell_type": "markdown",
   "metadata": {
    "colab_type": "text",
    "id": "l6Zhc4iKLKeC"
   },
   "source": [
    "### Stage -1: Data download\n",
    "\n",
    "This stage downloads dataset if the dataset is available online."
   ]
  },
  {
   "cell_type": "code",
   "execution_count": 3,
   "metadata": {
    "colab": {
     "base_uri": "https://localhost:8080/",
     "height": 69
    },
    "colab_type": "code",
    "id": "8CNFWXETAeYC",
    "outputId": "e6559ffa-c534-4cfe-9295-f5a82924f8d7"
   },
   "outputs": [
    {
     "name": "stdout",
     "output_type": "stream",
     "text": [
      "stage -1: Data Download\n",
      "local/download_and_untar.sh: an4 directory already exists in ./downloads\n",
      "dictionary: data/lang_1char/train_nodev_units.txt\n"
     ]
    }
   ],
   "source": [
    "!./run.sh --stage -1 --stop_stage -1"
   ]
  },
  {
   "cell_type": "code",
   "execution_count": 4,
   "metadata": {
    "colab": {
     "base_uri": "https://localhost:8080/",
     "height": 312
    },
    "colab_type": "code",
    "id": "Y3FTgWO7w0Rf",
    "outputId": "250de278-54c6-4e28-fd85-64d8f84c2942"
   },
   "outputs": [
    {
     "name": "stdout",
     "output_type": "stream",
     "text": [
      "\u001b[01;34m.\u001b[00m\n",
      "├── \u001b[01;32mcmd.sh\u001b[00m\n",
      "├── \u001b[01;34mconf\u001b[00m\n",
      "├── \u001b[01;34mdata\u001b[00m\n",
      "├── \u001b[01;34mdownloads\u001b[00m\n",
      "├── \u001b[01;34mdump\u001b[00m\n",
      "├── \u001b[01;34mexp\u001b[00m\n",
      "├── \u001b[01;36mlocal\u001b[00m -> \u001b[01;34m../asr1/local\u001b[00m\n",
      "├── \u001b[01;32mpath.sh\u001b[00m\n",
      "├── \u001b[01;32mrun.sh\u001b[00m\n",
      "├── \u001b[01;36msteps\u001b[00m -> \u001b[01;34m../../../tools/kaldi/egs/wsj/s5/steps\u001b[00m\n",
      "└── \u001b[01;36mutils\u001b[00m -> \u001b[01;34m../../../tools/kaldi/egs/wsj/s5/utils\u001b[00m\n",
      "\n",
      "8 directories, 3 files\n",
      "an4  an4_sphere.tar.gz\n"
     ]
    }
   ],
   "source": [
    "!tree -L 1\n",
    "!ls downloads/"
   ]
  },
  {
   "cell_type": "markdown",
   "metadata": {
    "colab_type": "text",
    "id": "lzqGzOqpw741"
   },
   "source": [
    "You can see **downloads** directory is cretead, which containing donwloaded an4 dataset."
   ]
  },
  {
   "cell_type": "markdown",
   "metadata": {
    "colab_type": "text",
    "id": "wa1OkxN3xSRx"
   },
   "source": [
    "### Stage 0: Data preparation\n",
    "\n",
    "This stage creates kaldi-style data directories."
   ]
  },
  {
   "cell_type": "code",
   "execution_count": 5,
   "metadata": {
    "colab": {
     "base_uri": "https://localhost:8080/",
     "height": 52
    },
    "colab_type": "code",
    "id": "ozLaRF1LA3Aq",
    "outputId": "5ac935b7-2fc7-415c-ccff-1b45e308adab"
   },
   "outputs": [
    {
     "name": "stdout",
     "output_type": "stream",
     "text": [
      "stage 0: Data preparation\n",
      "dictionary: data/lang_1char/train_nodev_units.txt\n"
     ]
    }
   ],
   "source": [
    "!./run.sh --stage 0 --stop_stage 0"
   ]
  },
  {
   "cell_type": "code",
   "execution_count": 6,
   "metadata": {
    "colab": {
     "base_uri": "https://localhost:8080/",
     "height": 156
    },
    "colab_type": "code",
    "id": "5Ch0fonjxep5",
    "outputId": "48bc5bd7-80e5-4794-9925-ae67c3fc51cb"
   },
   "outputs": [
    {
     "name": "stdout",
     "output_type": "stream",
     "text": [
      "\u001b[01;34mdata\u001b[00m\n",
      "├── \u001b[01;34mtest\u001b[00m\n",
      "└── \u001b[01;34mtrain\u001b[00m\n",
      "\n",
      "2 directories, 0 files\n"
     ]
    }
   ],
   "source": [
    "!tree -L 1 data"
   ]
  },
  {
   "cell_type": "markdown",
   "metadata": {
    "colab_type": "text",
    "id": "bF6wu5n3x9gD"
   },
   "source": [
    "Through the data preparation stage, kaldi-style data directories will be created.  \n",
    "Here, **data/train/** is corresponding to training set,  and **data/test** is corresponding to evaluation set.  \n",
    "Each directory has the same following files:"
   ]
  },
  {
   "cell_type": "code",
   "execution_count": 7,
   "metadata": {
    "colab": {
     "base_uri": "https://localhost:8080/",
     "height": 260
    },
    "colab_type": "code",
    "id": "G8goZ26ExwMw",
    "outputId": "75f31c83-f9a3-484a-83b8-fac3972e9137"
   },
   "outputs": [
    {
     "name": "stdout",
     "output_type": "stream",
     "text": [
      "data/test:\n",
      "spk2utt  text  utt2spk\twav.scp\n",
      "\n",
      "data/train:\n",
      "spk2utt  text  utt2spk\twav.scp\n"
     ]
    }
   ],
   "source": [
    "!ls data/*"
   ]
  },
  {
   "cell_type": "markdown",
   "metadata": {
    "colab_type": "text",
    "id": "mrxmV_Ntx3gk"
   },
   "source": [
    "The above four files are all we have to prepare to create new recipes.  \n",
    "Let's check each file."
   ]
  },
  {
   "cell_type": "code",
   "execution_count": 8,
   "metadata": {},
   "outputs": [
    {
     "name": "stdout",
     "output_type": "stream",
     "text": [
      "==> data/train/wav.scp <==\n",
      "fash-an251-b /mnt/nvme0n1p5/Code/Intern/espnet/egs/an4/tts1/../../../tools/kaldi/tools/sph2pipe_v2.5/sph2pipe -f wav -p -c 1 ./downloads/an4/wav/an4_clstk/fash/an251-fash-b.sph |\n",
      "fash-an253-b /mnt/nvme0n1p5/Code/Intern/espnet/egs/an4/tts1/../../../tools/kaldi/tools/sph2pipe_v2.5/sph2pipe -f wav -p -c 1 ./downloads/an4/wav/an4_clstk/fash/an253-fash-b.sph |\n",
      "fash-an254-b /mnt/nvme0n1p5/Code/Intern/espnet/egs/an4/tts1/../../../tools/kaldi/tools/sph2pipe_v2.5/sph2pipe -f wav -p -c 1 ./downloads/an4/wav/an4_clstk/fash/an254-fash-b.sph |\n",
      "\n",
      "==> data/train/text <==\n",
      "fash-an251-b YES\n",
      "fash-an253-b GO\n",
      "fash-an254-b YES\n",
      "\n",
      "==> data/train/utt2spk <==\n",
      "fash-an251-b fash\n",
      "fash-an253-b fash\n",
      "fash-an254-b fash\n",
      "\n",
      "==> data/train/spk2utt <==\n",
      "fash fash-an251-b fash-an253-b fash-an254-b fash-an255-b fash-cen1-b fash-cen2-b fash-cen4-b fash-cen5-b fash-cen7-b\n",
      "fbbh fbbh-an86-b fbbh-an87-b fbbh-an88-b fbbh-an89-b fbbh-an90-b fbbh-cen1-b fbbh-cen2-b fbbh-cen3-b fbbh-cen4-b fbbh-cen5-b fbbh-cen6-b fbbh-cen7-b fbbh-cen8-b\n",
      "fclc fclc-an146-b fclc-an147-b fclc-an148-b fclc-an149-b fclc-an150-b fclc-cen1-b fclc-cen2-b fclc-cen3-b fclc-cen4-b fclc-cen5-b fclc-cen6-b fclc-cen7-b fclc-cen8-b\n"
     ]
    }
   ],
   "source": [
    "!head -n 3 data/train/{wav.scp,text,utt2spk,spk2utt}"
   ]
  },
  {
   "cell_type": "markdown",
   "metadata": {
    "colab_type": "text",
    "id": "EwPydMzvxbcA"
   },
   "source": [
    "Each file contains the following information:\n",
    "- **wav.scp**: List of audio path. Each line has `<utt_id> <wavfile_path or command pipe>`. `<utt_id>` must be unique.\n",
    "- **text**: List of transcriptions. Each line has `<utt_id> <transcription>`. In the case of TTS, we assume that `<transcription>` is cleaned.\n",
    "- **utt2spk**: List of correspondence table between utterances and speakers. Each line has `<utt_id> <speaker_id>`.\n",
    "- **spk2utt**: List of correspondence table between speakers and utterances. Each lien has `<speaker_id> <utt_id> ... <utt_id> `. This file can be automatically created from **utt2spk**. \n",
    "\n",
    "In the ESPnet, speaker information is not used for any processing.   \n",
    "Therefore, **utt2spk** and **spk2utt** can be a dummy."
   ]
  },
  {
   "cell_type": "markdown",
   "metadata": {
    "colab_type": "text",
    "id": "XEgfec6u1KWA"
   },
   "source": [
    "### Stage 1: Feature extration\n",
    "\n",
    "This stage performs the following processing:\n",
    "1. Mel-spectrogram extraction\n",
    "2. Data split into training and validation set\n",
    "2. Statistics (mean and variance) calculation\n",
    "3. Normalization"
   ]
  },
  {
   "cell_type": "code",
   "execution_count": 9,
   "metadata": {
    "colab": {
     "base_uri": "https://localhost:8080/",
     "height": 364
    },
    "colab_type": "code",
    "id": "znHW0IwbBX0o",
    "outputId": "957f9dce-c181-433a-812b-3c79d2933653"
   },
   "outputs": [
    {
     "name": "stdout",
     "output_type": "stream",
     "text": [
      "stage 1: Feature Generation\n",
      "/mnt/nvme0n1p5/Code/Intern/espnet/egs/an4/tts1/../../../utils/make_fbank.sh --cmd run.pl --nj 4 --fs 16000 --fmax  --fmin  --n_fft 1024 --n_shift 256 --win_length  --n_mels 80 data/train exp/make_fbank/train fbank\n",
      "utils/validate_data_dir.sh: Successfully validated data-directory data/train\n",
      "/mnt/nvme0n1p5/Code/Intern/espnet/egs/an4/tts1/../../../utils/make_fbank.sh: [info]: no segments file exists: assuming pcm.scp indexed by utterance.\n",
      "Succeeded creating filterbank features for train\n",
      "/mnt/nvme0n1p5/Code/Intern/espnet/egs/an4/tts1/../../../utils/make_fbank.sh --cmd run.pl --nj 4 --fs 16000 --fmax  --fmin  --n_fft 1024 --n_shift 256 --win_length  --n_mels 80 data/test exp/make_fbank/test fbank\n",
      "utils/validate_data_dir.sh: Successfully validated data-directory data/test\n",
      "/mnt/nvme0n1p5/Code/Intern/espnet/egs/an4/tts1/../../../utils/make_fbank.sh: [info]: no segments file exists: assuming pcm.scp indexed by utterance.\n",
      "Succeeded creating filterbank features for test\n",
      "utils/subset_data_dir.sh: reducing #utt from 948 to 100\n",
      "utils/subset_data_dir.sh: reducing #utt from 948 to 848\n",
      "compute-cmvn-stats scp:data/train_nodev/feats.scp data/train_nodev/cmvn.ark \n",
      "LOG (compute-cmvn-stats[5.5.428~1-29b3]:main():compute-cmvn-stats.cc:168) Wrote global CMVN stats to data/train_nodev/cmvn.ark\n",
      "LOG (compute-cmvn-stats[5.5.428~1-29b3]:main():compute-cmvn-stats.cc:171) Done accumulating CMVN stats for 848 utterances; 0 had errors.\n",
      "/mnt/nvme0n1p5/Code/Intern/espnet/egs/an4/tts1/../../../utils/dump.sh --cmd run.pl --nj 4 --do_delta false data/train_nodev/feats.scp data/train_nodev/cmvn.ark exp/dump_feats/train dump/train_nodev\n",
      "/mnt/nvme0n1p5/Code/Intern/espnet/egs/an4/tts1/../../../utils/dump.sh --cmd run.pl --nj 4 --do_delta false data/train_dev/feats.scp data/train_nodev/cmvn.ark exp/dump_feats/dev dump/train_dev\n",
      "/mnt/nvme0n1p5/Code/Intern/espnet/egs/an4/tts1/../../../utils/dump.sh --cmd run.pl --nj 4 --do_delta false data/test/feats.scp data/train_nodev/cmvn.ark exp/dump_feats/eval dump/test\n",
      "dictionary: data/lang_1char/train_nodev_units.txt\n"
     ]
    }
   ],
   "source": [
    "!./run.sh --stage 1 --stop_stage 1 --nj 4"
   ]
  },
  {
   "cell_type": "markdown",
   "metadata": {
    "colab_type": "text",
    "id": "ONBddj474CwB"
   },
   "source": [
    "Raw filterbanks are saved in **fbank/** directory with ark/scp format."
   ]
  },
  {
   "cell_type": "code",
   "execution_count": 10,
   "metadata": {
    "colab": {
     "base_uri": "https://localhost:8080/",
     "height": 121
    },
    "colab_type": "code",
    "id": "udo85LqA19Yq",
    "outputId": "73535451-9620-4439-ad63-4d498608e01e"
   },
   "outputs": [
    {
     "name": "stdout",
     "output_type": "stream",
     "text": [
      "raw_fbank_test.1.ark  raw_fbank_test.4.ark   raw_fbank_train.3.ark\n",
      "raw_fbank_test.1.scp  raw_fbank_test.4.scp   raw_fbank_train.3.scp\n",
      "raw_fbank_test.2.ark  raw_fbank_train.1.ark  raw_fbank_train.4.ark\n",
      "raw_fbank_test.2.scp  raw_fbank_train.1.scp  raw_fbank_train.4.scp\n",
      "raw_fbank_test.3.ark  raw_fbank_train.2.ark\n",
      "raw_fbank_test.3.scp  raw_fbank_train.2.scp\n"
     ]
    }
   ],
   "source": [
    "!ls fbank"
   ]
  },
  {
   "cell_type": "markdown",
   "metadata": {
    "colab_type": "text",
    "id": "e9OS6JIp474Z"
   },
   "source": [
    "**.ark** is binary file and **.scp** contain the correspondence between `<utt_id>` and `<path_in_ark>`.  \n",
    "Since feature extraction can be performed for split small sets in parallel, raw_fbank is split into `raw_fbank_*.{1..N}.{scp,ark}.`"
   ]
  },
  {
   "cell_type": "code",
   "execution_count": 11,
   "metadata": {
    "colab": {
     "base_uri": "https://localhost:8080/",
     "height": 69
    },
    "colab_type": "code",
    "id": "tuPfH0ly46Ko",
    "outputId": "76de2cad-96b9-4781-afd3-7509960de58c"
   },
   "outputs": [
    {
     "name": "stdout",
     "output_type": "stream",
     "text": [
      "fash-an251-b /mnt/nvme0n1p5/Code/Intern/espnet/egs/an4/tts1/fbank/raw_fbank_train.1.ark:13\n",
      "fash-an253-b /mnt/nvme0n1p5/Code/Intern/espnet/egs/an4/tts1/fbank/raw_fbank_train.1.ark:5727\n",
      "fash-an254-b /mnt/nvme0n1p5/Code/Intern/espnet/egs/an4/tts1/fbank/raw_fbank_train.1.ark:9921\n"
     ]
    }
   ],
   "source": [
    "!head -n 3 fbank/raw_fbank_train.1.scp"
   ]
  },
  {
   "cell_type": "markdown",
   "metadata": {
    "colab_type": "text",
    "id": "oj1bx25q5bl_"
   },
   "source": [
    "These files can be loaded in python via **kaldiio** as follows:"
   ]
  },
  {
   "cell_type": "code",
   "execution_count": 12,
   "metadata": {
    "colab": {
     "base_uri": "https://localhost:8080/",
     "height": 545
    },
    "colab_type": "code",
    "id": "3K0uiQgB5aYK",
    "outputId": "d7797bdd-820b-45e4-ca91-ea821d5e7b36"
   },
   "outputs": [
    {
     "data": {
      "image/png": "[encoded data removed]",
      "text/plain": [
       "<Figure size 432x288 with 2 Axes>"
      ]
     },
     "metadata": {
      "needs_background": "light"
     },
     "output_type": "display_data"
    },
    {
     "data": {
      "image/png": "[encoded data removed]",
      "text/plain": [
       "<Figure size 432x288 with 2 Axes>"
      ]
     },
     "metadata": {
      "needs_background": "light"
     },
     "output_type": "display_data"
    }
   ],
   "source": [
    "import kaldiio\n",
    "import matplotlib.pyplot as plt\n",
    "\n",
    "# load scp file\n",
    "scp_dict = kaldiio.load_scp(\"fbank/raw_fbank_train.1.scp\")\n",
    "for key in scp_dict:\n",
    "    plt.imshow(scp_dict[key].T[::-1])\n",
    "    plt.title(key)\n",
    "    plt.colorbar()\n",
    "    plt.show()\n",
    "    break\n",
    "    \n",
    "# load ark file\n",
    "ark_generator = kaldiio.load_ark(\"fbank/raw_fbank_train.1.ark\")\n",
    "for key, array in ark_generator:\n",
    "    plt.imshow(array.T[::-1])\n",
    "    plt.title(key)\n",
    "    plt.colorbar()\n",
    "    plt.show()\n",
    "    break"
   ]
  },
  {
   "cell_type": "markdown",
   "metadata": {
    "colab_type": "text",
    "id": "-Au70T7i8ctz"
   },
   "source": [
    "After raw mel-spectrogram extraction, some files are added in **data/train/**.  \n",
    "**feats.scp** is concatenated scp file of **fbank/raw_fbank_train.{1..N}.scp**.  \n",
    "**utt2num_frames** has the number of feature frames of each `<utt_id>`."
   ]
  },
  {
   "cell_type": "code",
   "execution_count": 13,
   "metadata": {
    "colab": {
     "base_uri": "https://localhost:8080/",
     "height": 191
    },
    "colab_type": "code",
    "id": "ySykrx407Tek",
    "outputId": "a0829cb1-f291-4d51-cd17-e7da04ec3d53"
   },
   "outputs": [
    {
     "name": "stdout",
     "output_type": "stream",
     "text": [
      "feats.scp  filetype  spk2utt  text  utt2num_frames  utt2spk  wav.scp\n",
      "==> data/train/feats.scp <==\n",
      "fash-an251-b /mnt/nvme0n1p5/Code/Intern/espnet/egs/an4/tts1/fbank/raw_fbank_train.1.ark:13\n",
      "fash-an253-b /mnt/nvme0n1p5/Code/Intern/espnet/egs/an4/tts1/fbank/raw_fbank_train.1.ark:5727\n",
      "fash-an254-b /mnt/nvme0n1p5/Code/Intern/espnet/egs/an4/tts1/fbank/raw_fbank_train.1.ark:9921\n",
      "\n",
      "==> data/train/utt2num_frames <==\n",
      "fash-an251-b 63\n",
      "fash-an253-b 44\n",
      "fash-an254-b 57\n"
     ]
    }
   ],
   "source": [
    "!ls data/train\n",
    "!head -n 3 data/train/feats.scp data/train/utt2num_frames"
   ]
  },
  {
   "cell_type": "markdown",
   "metadata": {
    "colab_type": "text",
    "id": "qt4s7lkl9miZ"
   },
   "source": [
    "And **data/train/** directory is split into two directory:\n",
    "- **data/train_nodev/**: data directory for training\n",
    "- **data/train_dev/**: data directory for validation\n"
   ]
  },
  {
   "cell_type": "code",
   "execution_count": 14,
   "metadata": {
    "colab": {
     "base_uri": "https://localhost:8080/",
     "height": 121
    },
    "colab_type": "code",
    "id": "Yq6WNznw9P4z",
    "outputId": "be2c96cc-c9fb-4068-b1d0-3367a15cbb8f"
   },
   "outputs": [
    {
     "name": "stdout",
     "output_type": "stream",
     "text": [
      "test  train  train_dev\ttrain_nodev\n",
      "data/train_dev:\n",
      "feats.scp  spk2utt  text  utt2num_frames  utt2spk  wav.scp\n",
      "\n",
      "data/train_nodev:\n",
      "cmvn.ark  feats.scp  spk2utt  text  utt2num_frames  utt2spk  wav.scp\n"
     ]
    }
   ],
   "source": [
    "!ls data\n",
    "!ls data/train_*"
   ]
  },
  {
   "cell_type": "markdown",
   "metadata": {
    "colab_type": "text",
    "id": "Fw_KBzQCBN0E"
   },
   "source": [
    "You can find **cmvn.ark** in **data/train_nodev**, which is the calculated statistics file.  \n",
    "This file also can be loaded in python via kaldiio.\n"
   ]
  },
  {
   "cell_type": "code",
   "execution_count": 15,
   "metadata": {
    "colab": {
     "base_uri": "https://localhost:8080/",
     "height": 521
    },
    "colab_type": "code",
    "id": "s5YxfvNwBIlG",
    "outputId": "76ce0685-53e6-4ff3-9195-8dcdeb35b3cf"
   },
   "outputs": [
    {
     "name": "stdout",
     "output_type": "stream",
     "text": [
      "cmvn shape = (2, 81)\n",
      "mean = [-2.3015277 -2.1957324 -1.965476  -1.9376634 -1.763314  -1.6846671\n",
      " -1.7875645 -1.9486219 -1.9248271 -1.8872184 -1.9270604 -1.991474\n",
      " -1.977873  -2.09246   -2.1971824 -2.2099178 -2.3019783 -2.2964242\n",
      " -2.32575   -2.3705876 -2.40271   -2.4498029 -2.43      -2.4660358\n",
      " -2.5255733 -2.538611  -2.582323  -2.5250688 -2.6118424 -2.6324549\n",
      " -2.6633208 -2.6720283 -2.6356306 -2.6361263 -2.6829062 -2.691491\n",
      " -2.694131  -2.675015  -2.673414  -2.665589  -2.6630545 -2.6658235\n",
      " -2.657909  -2.6691165 -2.6635575 -2.6643655 -2.6674545 -2.6618829\n",
      " -2.660625  -2.657067  -2.6489155 -2.6527998 -2.6650834 -2.6781523\n",
      " -2.6988668 -2.7085893 -2.7201533 -2.7215233 -2.7254078 -2.7388637\n",
      " -2.7713299 -2.8122766 -2.8621979 -2.911358  -2.9572158 -3.0068166\n",
      " -3.0537202 -3.1046875 -3.1606045 -3.2164888 -3.2550602 -3.2886407\n",
      " -3.3207698 -3.3445303 -3.3530543 -3.3561647 -3.357716  -3.3631625\n",
      " -3.307748  -3.2325494]\n",
      "variance = [ 5.4785123  5.194147   4.653285   4.3896008  3.6336281  3.4551063\n",
      "  3.7337823  4.3736997  4.243792   4.193818   4.4535246  4.6856284\n",
      "  4.5197268  4.960779   5.486998   5.530392   5.9634376  5.9297132\n",
      "  6.022952   6.2188787  6.402854   6.6038113  6.456947   6.6182704\n",
      "  6.916484   6.9951625  7.203004   6.832004   7.3332386  7.45578\n",
      "  7.6392403  7.6680713  7.402421   7.3907475  7.693637   7.768753\n",
      "  7.773007   7.671267   7.682944   7.639572   7.6263943  7.6473837\n",
      "  7.611816   7.6796045  7.6519523  7.658576   7.6860733  7.670901\n",
      "  7.675613   7.67495    7.63946    7.6657314  7.7366195  7.789133\n",
      "  7.8906307  7.934334   8.0020485  8.016446   8.038346   8.104283\n",
      "  8.278971   8.490983   8.759398   9.036306   9.297287   9.589112\n",
      "  9.866016  10.173562  10.518695  10.873264  11.115793  11.3293495\n",
      " 11.530077  11.672475  11.716664  11.72441   11.723599  11.751684\n",
      " 11.366632  10.894848 ]\n"
     ]
    }
   ],
   "source": [
    "# load cmvn.ark file (Be careful not load_ark, but load_mat)\n",
    "cmvn = kaldiio.load_mat(\"data/train_nodev/cmvn.ark\")\n",
    "\n",
    "# cmvn consists of mean and variance, the last dimension of mean represents the number of frames.\n",
    "print(\"cmvn shape = \"+ str(cmvn.shape))\n",
    "\n",
    "# calculate mean and variance\n",
    "mu = cmvn[0, :-1] / cmvn[0, -1]\n",
    "var = cmvn[1, :-1] / cmvn[0, -1]\n",
    "\n",
    "# show mean\n",
    "print(\"mean = \" + str(mu))\n",
    "print(\"variance = \" + str(var))"
   ]
  },
  {
   "cell_type": "markdown",
   "metadata": {
    "colab_type": "text",
    "id": "pTCG1CPRDN5H"
   },
   "source": [
    "Normalzed features for training, validation and evaluation set are dumped in **dump/{train_nodev,train_dev,test}/**.  \n",
    "There ark and scp can be loaded as the same as the above procedure.\n",
    "\n"
   ]
  },
  {
   "cell_type": "code",
   "execution_count": 16,
   "metadata": {
    "colab": {
     "base_uri": "https://localhost:8080/",
     "height": 260
    },
    "colab_type": "code",
    "id": "JazwdIVbDNFs",
    "outputId": "0ac7485e-7ea7-4519-a7e4-347d041e9389"
   },
   "outputs": [
    {
     "name": "stdout",
     "output_type": "stream",
     "text": [
      "dump/test:\n",
      "feats.1.ark  feats.2.ark  feats.3.ark  feats.4.ark  feats.scp  utt2num_frames\n",
      "feats.1.scp  feats.2.scp  feats.3.scp  feats.4.scp  filetype\n",
      "\n",
      "dump/train_dev:\n",
      "feats.1.ark  feats.2.ark  feats.3.ark  feats.4.ark  feats.scp  utt2num_frames\n",
      "feats.1.scp  feats.2.scp  feats.3.scp  feats.4.scp  filetype\n",
      "\n",
      "dump/train_nodev:\n",
      "feats.1.ark  feats.2.ark  feats.3.ark  feats.4.ark  feats.scp  utt2num_frames\n",
      "feats.1.scp  feats.2.scp  feats.3.scp  feats.4.scp  filetype\n"
     ]
    }
   ],
   "source": [
    "!ls dump/*"
   ]
  },
  {
   "cell_type": "markdown",
   "metadata": {
    "colab_type": "text",
    "id": "eYtmQCDdDk0d"
   },
   "source": [
    "### Stage 2: Dictionary and json preparation\n",
    "\n",
    "This stage creates dictrionary from **data/train_nodev/text** and makes json file for training."
   ]
  },
  {
   "cell_type": "code",
   "execution_count": 17,
   "metadata": {
    "colab": {
     "base_uri": "https://localhost:8080/",
     "height": 173
    },
    "colab_type": "code",
    "id": "fgWDdveUBctQ",
    "outputId": "1f32337d-5e62-4462-d908-224b277ee647"
   },
   "outputs": [
    {
     "name": "stdout",
     "output_type": "stream",
     "text": [
      "dictionary: data/lang_1char/train_nodev_units.txt\n",
      "stage 2: Dictionary and Json Data Preparation\n",
      "28 data/lang_1char/train_nodev_units.txt\n",
      "/mnt/nvme0n1p5/Code/Intern/espnet/egs/an4/tts1/../../../utils/data2json.sh --feat dump/train_nodev/feats.scp data/train_nodev data/lang_1char/train_nodev_units.txt\n",
      "/mnt/nvme0n1p5/Code/Intern/espnet/egs/an4/tts1/../../../utils/feat_to_shape.sh --cmd run.pl --nj 1 --filetype  --preprocess-conf  --verbose 0 dump/train_nodev/feats.scp data/train_nodev/tmp-aOjKO/input_1/shape.scp\n",
      "/mnt/nvme0n1p5/Code/Intern/espnet/egs/an4/tts1/../../../utils/data2json.sh --feat dump/train_dev/feats.scp data/train_dev data/lang_1char/train_nodev_units.txt\n",
      "/mnt/nvme0n1p5/Code/Intern/espnet/egs/an4/tts1/../../../utils/feat_to_shape.sh --cmd run.pl --nj 1 --filetype  --preprocess-conf  --verbose 0 dump/train_dev/feats.scp data/train_dev/tmp-2qsYf/input_1/shape.scp\n",
      "/mnt/nvme0n1p5/Code/Intern/espnet/egs/an4/tts1/../../../utils/data2json.sh --feat dump/test/feats.scp data/test data/lang_1char/train_nodev_units.txt\n",
      "/mnt/nvme0n1p5/Code/Intern/espnet/egs/an4/tts1/../../../utils/feat_to_shape.sh --cmd run.pl --nj 1 --filetype  --preprocess-conf  --verbose 0 dump/test/feats.scp data/test/tmp-ENOfx/input_1/shape.scp\n"
     ]
    }
   ],
   "source": [
    "!./run.sh --stage 2 --stop_stage 2"
   ]
  },
  {
   "cell_type": "markdown",
   "metadata": {
    "colab_type": "text",
    "id": "IB-eU-W1FNLk"
   },
   "source": [
    "Dictrionary file will be created in **data/lang_1char/**.  \n",
    "Dictionary file consists of `<token>` `<token index>`.  \n",
    "Here, `<token index>` starts from 1 because 0 is used as padding index.\n"
   ]
  },
  {
   "cell_type": "code",
   "execution_count": 18,
   "metadata": {
    "colab": {
     "base_uri": "https://localhost:8080/",
     "height": 521
    },
    "colab_type": "code",
    "id": "q8S74SjdFXcF",
    "outputId": "02f0fd30-a05f-4804-b6a8-5938782269d6"
   },
   "outputs": [
    {
     "name": "stdout",
     "output_type": "stream",
     "text": [
      "lang_1char  test  train  train_dev  train_nodev\n",
      "<unk> 1\n",
      "<space> 2\n",
      "A 3\n",
      "B 4\n",
      "C 5\n",
      "D 6\n",
      "E 7\n",
      "F 8\n",
      "G 9\n",
      "H 10\n",
      "I 11\n",
      "J 12\n",
      "K 13\n",
      "L 14\n",
      "M 15\n",
      "N 16\n",
      "O 17\n",
      "P 18\n",
      "Q 19\n",
      "R 20\n",
      "S 21\n",
      "T 22\n",
      "U 23\n",
      "V 24\n",
      "W 25\n",
      "X 26\n",
      "Y 27\n",
      "Z 28\n"
     ]
    }
   ],
   "source": [
    "!ls data\n",
    "!cat data/lang_1char/train_nodev_units.txt"
   ]
  },
  {
   "cell_type": "markdown",
   "metadata": {
    "colab_type": "text",
    "id": "b-QO0MLGGaBO"
   },
   "source": [
    "Json file will be created for training / validation /evaludation sets and they are saved as **dump/{train_nodev,train_dev,test}/data.json**."
   ]
  },
  {
   "cell_type": "code",
   "execution_count": 19,
   "metadata": {
    "colab": {
     "base_uri": "https://localhost:8080/",
     "height": 34
    },
    "colab_type": "code",
    "id": "BrYKpYVUGh6K",
    "outputId": "1f168c10-6407-411e-b617-eafc5b1dae24"
   },
   "outputs": [
    {
     "name": "stdout",
     "output_type": "stream",
     "text": [
      "dump/test/data.json  dump/train_dev/data.json  dump/train_nodev/data.json\n"
     ]
    }
   ],
   "source": [
    "!ls dump/*/*.json"
   ]
  },
  {
   "cell_type": "markdown",
   "metadata": {
    "colab_type": "text",
    "id": "CoRMOHDnG1Xk"
   },
   "source": [
    "Each json file contains all of the information in the data directory."
   ]
  },
  {
   "cell_type": "code",
   "execution_count": 20,
   "metadata": {
    "colab": {
     "base_uri": "https://localhost:8080/",
     "height": 486
    },
    "colab_type": "code",
    "id": "O_My36NFHAVI",
    "outputId": "02642af2-6ae1-4c64-ab74-3b9ee2ada422"
   },
   "outputs": [
    {
     "name": "stdout",
     "output_type": "stream",
     "text": [
      "{\n",
      "    \"utts\": {\n",
      "        \"fash-an251-b\": {\n",
      "            \"input\": [\n",
      "                {\n",
      "                    \"feat\": \"/mnt/nvme0n1p5/Code/Intern/espnet/egs/an4/tts1/dump/train_nodev/feats.1.ark:13\",\n",
      "                    \"name\": \"input1\",\n",
      "                    \"shape\": [\n",
      "                        63,\n",
      "                        80\n",
      "                    ]\n",
      "                }\n",
      "            ],\n",
      "            \"output\": [\n",
      "                {\n",
      "                    \"name\": \"target1\",\n",
      "                    \"shape\": [\n",
      "                        3,\n",
      "                        30\n",
      "                    ],\n",
      "                    \"text\": \"YES\",\n",
      "                    \"token\": \"Y E S\",\n",
      "                    \"tokenid\": \"27 7 21\"\n",
      "                }\n",
      "            ],\n",
      "            \"utt2spk\": \"fash\"\n",
      "        },\n"
     ]
    }
   ],
   "source": [
    "!head -n 27 dump/train_nodev/data.json"
   ]
  },
  {
   "cell_type": "markdown",
   "metadata": {
    "colab_type": "text",
    "id": "O88CpXHtHnZA"
   },
   "source": [
    "- \"shape\": Shape of the input or output sequence. Here input shape [63, 80] represents the number of frames = 63 and the dimension of mel-spectrogram = 80.\n",
    "- \"text\": Original transcription.\n",
    "- \"token\": Token sequence of original transcription.\n",
    "- \"tokenid\" Token id sequence of original transcription, which is converted using the dictionary.\n",
    "\n",
    "Now ready to start training!"
   ]
  },
  {
   "cell_type": "markdown",
   "metadata": {
    "colab_type": "text",
    "id": "QUkLphZbIw51"
   },
   "source": [
    "### Stage 3: Network training\n",
    "\n",
    "This stage performs training of the network.  \n",
    "Network training configurations are written as **.yaml** format file.  \n",
    "Let us check the default cofiguration **conf/train_pytroch_tacotron2.yaml**."
   ]
  },
  {
   "cell_type": "code",
   "execution_count": 21,
   "metadata": {
    "colab": {
     "base_uri": "https://localhost:8080/",
     "height": 816
    },
    "colab_type": "code",
    "id": "b-f5K2bYOaVY",
    "outputId": "22c2ec06-6a8a-4440-8ab3-e3eb877fdb68"
   },
   "outputs": [
    {
     "name": "stdout",
     "output_type": "stream",
     "text": [
      "# This is the basic tactron2 training settting\n",
      "\n",
      "# encoder related\n",
      "embed-dim: 512\n",
      "elayers: 1\n",
      "eunits: 512\n",
      "econv-layers: 3 # if set 0, no conv layer is used\n",
      "econv-chans: 512\n",
      "econv-filts: 5\n",
      "\n",
      "# decoder related\n",
      "dlayers: 2\n",
      "dunits: 1024\n",
      "prenet-layers: 2  # if set 0, no prenet is used\n",
      "prenet-units: 256\n",
      "postnet-layers: 5 # if set 0, no postnet is used\n",
      "postnet-chans: 512\n",
      "postnet-filts: 5\n",
      "\n",
      "# attention related\n",
      "atype: location\n",
      "adim: 128\n",
      "aconv-chans: 32\n",
      "aconv-filts: 15      # resulting in filter-size = aconv-filts * 2 + 1\n",
      "cumulate-att-w: true # whether to cumulate attetion weight\n",
      "use-batch-norm: true # whether to use batch normalization in conv layer\n",
      "use-concate: true    # whether to concatenate encoder embedding with decoder lstm outputs\n",
      "use-residual: false  # whether to use residual connection in encoder convolution\n",
      "use-masking: true    # whether to mask the padded part in loss calculation\n",
      "bce-pos-weight: 1.0  # weight for positive samples of stop token in cross-entropy calculation\n",
      "reduction-factor: 2\n",
      "\n",
      "# minibatch related\n",
      "batch-size: 32\n",
      "batch-sort-key: shuffle # shuffle or input or output\n",
      "maxlen-in: 150     # if input length  > maxlen-in, batchsize is reduced (if use \"shuffle\", not effect)\n",
      "maxlen-out: 400    # if output length > maxlen-out, batchsize is reduced (if use \"shuffle\", not effect)\n",
      "\n",
      "# optimization related\n",
      "lr: 1e-3\n",
      "eps: 1e-6\n",
      "weight-decay: 0.0\n",
      "dropout-rate: 0.5\n",
      "zoneout-rate: 0.1\n",
      "epochs: 50\n",
      "patience: 5\n"
     ]
    }
   ],
   "source": [
    "!cat conf/train_pytorch_tacotron2.yaml"
   ]
  },
  {
   "cell_type": "markdown",
   "metadata": {
    "colab_type": "text",
    "id": "6_QmCAS1OlD2"
   },
   "source": [
    "You can modify this configuration file to change the hyperparameters.  \n",
    "Here, let's change the number of epochs for this demonstration."
   ]
  },
  {
   "cell_type": "code",
   "execution_count": 22,
   "metadata": {
    "colab": {
     "base_uri": "https://localhost:8080/",
     "height": 816
    },
    "colab_type": "code",
    "id": "f2Q9sYVxOjzm",
    "outputId": "e32d1ff5-dd58-41b0-8475-0eeb8ca65f16"
   },
   "outputs": [
    {
     "name": "stdout",
     "output_type": "stream",
     "text": [
      "# This is the basic tactron2 training settting\n",
      "\n",
      "# encoder related\n",
      "embed-dim: 512\n",
      "elayers: 1\n",
      "eunits: 512\n",
      "econv-layers: 3 # if set 0, no conv layer is used\n",
      "econv-chans: 512\n",
      "econv-filts: 5\n",
      "\n",
      "# decoder related\n",
      "dlayers: 2\n",
      "dunits: 1024\n",
      "prenet-layers: 2  # if set 0, no prenet is used\n",
      "prenet-units: 256\n",
      "postnet-layers: 5 # if set 0, no postnet is used\n",
      "postnet-chans: 512\n",
      "postnet-filts: 5\n",
      "\n",
      "# attention related\n",
      "atype: location\n",
      "adim: 128\n",
      "aconv-chans: 32\n",
      "aconv-filts: 15      # resulting in filter-size = aconv-filts * 2 + 1\n",
      "cumulate-att-w: true # whether to cumulate attetion weight\n",
      "use-batch-norm: true # whether to use batch normalization in conv layer\n",
      "use-concate: true    # whether to concatenate encoder embedding with decoder lstm outputs\n",
      "use-residual: false  # whether to use residual connection in encoder convolution\n",
      "use-masking: true    # whether to mask the padded part in loss calculation\n",
      "bce-pos-weight: 1.0  # weight for positive samples of stop token in cross-entropy calculation\n",
      "reduction-factor: 2\n",
      "\n",
      "# minibatch related\n",
      "batch-size: 32\n",
      "batch-sort-key: shuffle # shuffle or input or output\n",
      "maxlen-in: 150     # if input length  > maxlen-in, batchsize is reduced (if use \"shuffle\", not effect)\n",
      "maxlen-out: 400    # if output length > maxlen-out, batchsize is reduced (if use \"shuffle\", not effect)\n",
      "\n",
      "# optimization related\n",
      "lr: 1e-3\n",
      "eps: 1e-6\n",
      "weight-decay: 0.0\n",
      "dropout-rate: 0.5\n",
      "zoneout-rate: 0.1\n",
      "epochs: 3\n",
      "patience: 5\n"
     ]
    }
   ],
   "source": [
    "# TODO(kan-bayashi): Change here to use change_yaml.py\n",
    "!cat conf/train_pytorch_tacotron2.yaml | sed -e \"s/epochs: 50/epochs: 3/g\" > conf/train_pytorch_tacotron2_sample.yaml\n",
    "!cat conf/train_pytorch_tacotron2_sample.yaml"
   ]
  },
  {
   "cell_type": "markdown",
   "metadata": {
    "colab_type": "text",
    "id": "MlkD_x4wRD80"
   },
   "source": [
    "Let's train the network.  \n",
    "You can specify the config file via **--train_config** option.\n",
    "It takes several minutes.\n"
   ]
  },
  {
   "cell_type": "code",
   "execution_count": 23,
   "metadata": {
    "colab": {
     "base_uri": "https://localhost:8080/",
     "height": 69
    },
    "colab_type": "code",
    "id": "cgdY6vp0Bhy4",
    "outputId": "73a6fc3a-5e44-4dd7-c229-42037276ba44"
   },
   "outputs": [
    {
     "name": "stdout",
     "output_type": "stream",
     "text": [
      "dictionary: data/lang_1char/train_nodev_units.txt\n",
      "stage 3: Text-to-speech model training\n"
     ]
    }
   ],
   "source": [
    "!./run.sh --stage 3 --stop_stage 3 --train_config conf/train_pytorch_tacotron2_sample.yaml --verbose 1"
   ]
  },
  {
   "cell_type": "markdown",
   "metadata": {
    "colab_type": "text",
    "id": "HsN8qD1gKnTc"
   },
   "source": [
    "You can see the training log in `exp/train_*/train.log`."
   ]
  },
  {
   "cell_type": "markdown",
   "metadata": {
    "colab_type": "text",
    "id": "wy0rXqBNTAtk"
   },
   "source": [
    "The models are saved in `exp/train_*/results/` directory."
   ]
  },
  {
   "cell_type": "code",
   "execution_count": 24,
   "metadata": {
    "colab": {
     "base_uri": "https://localhost:8080/",
     "height": 208
    },
    "colab_type": "code",
    "id": "YRxIFjnWS_t9",
    "outputId": "5408227c-5118-4b6f-f36f-e6a72e3ddc58"
   },
   "outputs": [
    {
     "name": "stdout",
     "output_type": "stream",
     "text": [
      "exp/train_nodev_pytorch_train_pytorch_tacotron2_sample/results:\n",
      "all_loss.png  l1_loss.png  model.loss.best  snapshot.ep.2\n",
      "att_ws\t      loss.png\t   mse_loss.png     snapshot.ep.3\n",
      "bce_loss.png  model.json   snapshot.ep.1\n",
      "\n",
      "exp/train_nodev_pytorch_train_pytorch_tacotron2_sample/results/att_ws:\n",
      "fash-an251-b.ep.1.npy  fash-an253-b.ep.3.npy  fash-an255-b.ep.2.npy\n",
      "fash-an251-b.ep.1.png  fash-an253-b.ep.3.png  fash-an255-b.ep.2.png\n",
      "fash-an251-b.ep.2.npy  fash-an254-b.ep.1.npy  fash-an255-b.ep.3.npy\n",
      "fash-an251-b.ep.2.png  fash-an254-b.ep.1.png  fash-an255-b.ep.3.png\n",
      "fash-an251-b.ep.3.npy  fash-an254-b.ep.2.npy  fash-cen1-b.ep.1.npy\n",
      "fash-an251-b.ep.3.png  fash-an254-b.ep.2.png  fash-cen1-b.ep.1.png\n",
      "fash-an253-b.ep.1.npy  fash-an254-b.ep.3.npy  fash-cen1-b.ep.2.npy\n",
      "fash-an253-b.ep.1.png  fash-an254-b.ep.3.png  fash-cen1-b.ep.2.png\n",
      "fash-an253-b.ep.2.npy  fash-an255-b.ep.1.npy  fash-cen1-b.ep.3.npy\n",
      "fash-an253-b.ep.2.png  fash-an255-b.ep.1.png  fash-cen1-b.ep.3.png\n"
     ]
    }
   ],
   "source": [
    "!ls exp/train_nodev_pytorch_train_pytorch_tacotron2_sample/results exp/train_nodev_pytorch_train_pytorch_tacotron2_sample/results/att_ws"
   ]
  },
  {
   "cell_type": "markdown",
   "metadata": {
    "colab_type": "text",
    "id": "_vyKmHl8T5uj"
   },
   "source": [
    "`exp/train_*/results/*.png` are the figures of training curve."
   ]
  },
  {
   "cell_type": "code",
   "execution_count": 25,
   "metadata": {
    "colab": {
     "base_uri": "https://localhost:8080/",
     "height": 1000
    },
    "colab_type": "code",
    "id": "Dwee4a8NUOBg",
    "outputId": "ea2a6c3f-4296-4ab7-f918-2d378227aec8"
   },
   "outputs": [
    {
     "name": "stdout",
     "output_type": "stream",
     "text": [
      "all loss curve\n"
     ]
    },
    {
     "data": {
      "image/png": "[encoded data removed]"
     },
     "metadata": {},
     "output_type": "display_data"
    },
    {
     "name": "stdout",
     "output_type": "stream",
     "text": [
      "l1 loss curve\n"
     ]
    },
    {
     "data": {
      "image/png": "[encoded data removed]"
     },
     "metadata": {},
     "output_type": "display_data"
    },
    {
     "name": "stdout",
     "output_type": "stream",
     "text": [
      "mse loss curve\n"
     ]
    },
    {
     "data": {
      "image/png": "[encoded data removed]"
     },
     "metadata": {},
     "output_type": "display_data"
    },
    {
     "name": "stdout",
     "output_type": "stream",
     "text": [
      "bce loss curve\n"
     ]
    },
    {
     "data": {
      "image/png": "[encoded data removed]"
     },
     "metadata": {},
     "output_type": "display_data"
    }
   ],
   "source": [
    "from IPython.display import Image, display_png\n",
    "print(\"all loss curve\")\n",
    "display_png(Image(\"exp/train_nodev_pytorch_train_pytorch_tacotron2_sample/results/all_loss.png\"))\n",
    "print(\"l1 loss curve\")\n",
    "display_png(Image(\"exp/train_nodev_pytorch_train_pytorch_tacotron2_sample/results/l1_loss.png\"))\n",
    "print(\"mse loss curve\")\n",
    "display_png(Image(\"exp/train_nodev_pytorch_train_pytorch_tacotron2_sample/results/mse_loss.png\"))\n",
    "print(\"bce loss curve\")\n",
    "display_png(Image(\"exp/train_nodev_pytorch_train_pytorch_tacotron2_sample/results/bce_loss.png\"))"
   ]
  },
  {
   "cell_type": "markdown",
   "metadata": {
    "colab_type": "text",
    "id": "Ui57IrR4VCpv"
   },
   "source": [
    "`exp/train_*/results/att_ws/.png` are the figures of attention weights in each epoch."
   ]
  },
  {
   "cell_type": "code",
   "execution_count": 26,
   "metadata": {
    "colab": {
     "base_uri": "https://localhost:8080/",
     "height": 514
    },
    "colab_type": "code",
    "id": "NyMW2tx0VKjC",
    "outputId": "d301ec6f-1a0a-4aa5-efb7-c69fd978d4ae"
   },
   "outputs": [
    {
     "name": "stdout",
     "output_type": "stream",
     "text": [
      "Attention weights of initial epoch\n"
     ]
    },
    {
     "data": {
      "image/png": "[encoded data removed]"
     },
     "metadata": {},
     "output_type": "display_data"
    }
   ],
   "source": [
    "print(\"Attention weights of initial epoch\")\n",
    "display_png(Image(\"exp/train_nodev_pytorch_train_pytorch_tacotron2_sample/results/att_ws/fash-cen1-b.ep.1.png\"))"
   ]
  },
  {
   "cell_type": "markdown",
   "metadata": {
    "colab_type": "text",
    "id": "s6_hIi3OVsvZ"
   },
   "source": [
    "`exp/train_*/results/model.loss.best` contains only the model parameters.  \n",
    "On the other hand, `exp/train_*/results/snapshot` contains the model parameters, optimizer states, and iterator states.  \n",
    "So you can restart from the training by specifying the snapshot file with **--resume** option.\n"
   ]
  },
  {
   "cell_type": "code",
   "execution_count": 27,
   "metadata": {
    "colab": {
     "base_uri": "https://localhost:8080/",
     "height": 89
    },
    "colab_type": "code",
    "id": "bYY323h4WVgQ",
    "outputId": "2767c24d-3d0e-41e8-9cca-147b77813266"
   },
   "outputs": [
    {
     "name": "stdout",
     "output_type": "stream",
     "text": [
      "dictionary: data/lang_1char/train_nodev_units.txt\n",
      "stage 3: Text-to-speech model training\n"
     ]
    }
   ],
   "source": [
    "# resume training from snapshot.ep.2\n",
    "!./run.sh --stage 3 --stop_stage 3 --train_config conf/train_pytorch_tacotron2_sample.yaml --resume exp/train_nodev_pytorch_train_pytorch_tacotron2_sample/results/snapshot.ep.2 --verbose 1"
   ]
  },
  {
   "cell_type": "code",
   "execution_count": 28,
   "metadata": {
    "colab": {},
    "colab_type": "code",
    "id": "JNfzDyQRWsf-"
   },
   "outputs": [
    {
     "name": "stdout",
     "output_type": "stream",
     "text": [
      "# tts_train.py --backend pytorch --ngpu 1 --minibatches 0 --outdir exp/train_nodev_pytorch_train_pytorch_tacotron2_sample/results --tensorboard-dir tensorboard/train_nodev_pytorch_train_pytorch_tacotron2_sample --verbose 1 --seed 1 --resume exp/train_nodev_pytorch_train_pytorch_tacotron2_sample/results/snapshot.ep.2 --train-json dump/train_nodev/data.json --valid-json dump/train_dev/data.json --config conf/train_pytorch_tacotron2_sample.yaml \n",
      "# Started at Sat May 30 14:25:53 IST 2020\n",
      "#\n",
      "2020-05-30 14:25:55,413 (tts_train:339) INFO: ngpu: 1\n",
      "2020-05-30 14:25:55,413 (tts_train:342) INFO: random seed = 1\n",
      "2020-05-30 14:25:55,473 (deterministic_utils:26) INFO: torch type check is disabled\n",
      "2020-05-30 14:25:55,495 (tts:279) INFO: #input dims : 30\n",
      "2020-05-30 14:25:55,495 (tts:280) INFO: #output dims: 80\n",
      "2020-05-30 14:25:55,495 (tts:297) INFO: writing a model config file toexp/train_nodev_pytorch_train_pytorch_tacotron2_sample/results/model.json\n",
      "2020-05-30 14:25:55,496 (tts:304) INFO: ARGS: accum_grad: 1\n",
      "2020-05-30 14:25:55,496 (tts:304) INFO: ARGS: aconv_chans: 32\n",
      "2020-05-30 14:25:55,496 (tts:304) INFO: ARGS: aconv_filts: 15\n",
      "2020-05-30 14:25:55,496 (tts:304) INFO: ARGS: adim: 128\n",
      "2020-05-30 14:25:55,496 (tts:304) INFO: ARGS: atype: location\n",
      "2020-05-30 14:25:55,496 (tts:304) INFO: ARGS: backend: pytorch\n",
      "2020-05-30 14:25:55,496 (tts:304) INFO: ARGS: batch_bins: 0\n",
      "2020-05-30 14:25:55,496 (tts:304) INFO: ARGS: batch_count: auto\n",
      "2020-05-30 14:25:55,496 (tts:304) INFO: ARGS: batch_frames_in: 0\n",
      "2020-05-30 14:25:55,496 (tts:304) INFO: ARGS: batch_frames_inout: 0\n",
      "2020-05-30 14:25:55,496 (tts:304) INFO: ARGS: batch_frames_out: 0\n",
      "2020-05-30 14:25:55,496 (tts:304) INFO: ARGS: batch_size: 32\n",
      "2020-05-30 14:25:55,497 (tts:304) INFO: ARGS: batch_sort_key: shuffle\n",
      "2020-05-30 14:25:55,497 (tts:304) INFO: ARGS: bce_pos_weight: 1.0\n",
      "2020-05-30 14:25:55,497 (tts:304) INFO: ARGS: cbhg_conv_bank_chans: 128\n",
      "2020-05-30 14:25:55,497 (tts:304) INFO: ARGS: cbhg_conv_bank_layers: 8\n",
      "2020-05-30 14:25:55,497 (tts:304) INFO: ARGS: cbhg_conv_proj_chans: 256\n",
      "2020-05-30 14:25:55,497 (tts:304) INFO: ARGS: cbhg_conv_proj_filts: 3\n",
      "2020-05-30 14:25:55,497 (tts:304) INFO: ARGS: cbhg_gru_units: 256\n",
      "2020-05-30 14:25:55,497 (tts:304) INFO: ARGS: cbhg_highway_layers: 4\n",
      "2020-05-30 14:25:55,497 (tts:304) INFO: ARGS: cbhg_highway_units: 128\n",
      "2020-05-30 14:25:55,497 (tts:304) INFO: ARGS: config: conf/train_pytorch_tacotron2_sample.yaml\n",
      "2020-05-30 14:25:55,497 (tts:304) INFO: ARGS: config2: None\n",
      "2020-05-30 14:25:55,497 (tts:304) INFO: ARGS: config3: None\n",
      "2020-05-30 14:25:55,497 (tts:304) INFO: ARGS: cumulate_att_w: True\n",
      "2020-05-30 14:25:55,497 (tts:304) INFO: ARGS: debugmode: 1\n",
      "2020-05-30 14:25:55,497 (tts:304) INFO: ARGS: dec_init: None\n",
      "2020-05-30 14:25:55,497 (tts:304) INFO: ARGS: dec_init_mods: ['dec.']\n",
      "2020-05-30 14:25:55,497 (tts:304) INFO: ARGS: dlayers: 2\n",
      "2020-05-30 14:25:55,498 (tts:304) INFO: ARGS: dropout_rate: 0.5\n",
      "2020-05-30 14:25:55,498 (tts:304) INFO: ARGS: dunits: 1024\n",
      "2020-05-30 14:25:55,498 (tts:304) INFO: ARGS: early_stop_criterion: validation/main/loss\n",
      "2020-05-30 14:25:55,498 (tts:304) INFO: ARGS: econv_chans: 512\n",
      "2020-05-30 14:25:55,498 (tts:304) INFO: ARGS: econv_filts: 5\n",
      "2020-05-30 14:25:55,498 (tts:304) INFO: ARGS: econv_layers: 3\n",
      "2020-05-30 14:25:55,498 (tts:304) INFO: ARGS: elayers: 1\n",
      "2020-05-30 14:25:55,498 (tts:304) INFO: ARGS: embed_dim: 512\n",
      "2020-05-30 14:25:55,498 (tts:304) INFO: ARGS: enc_init: None\n",
      "2020-05-30 14:25:55,498 (tts:304) INFO: ARGS: enc_init_mods: ['enc.']\n",
      "2020-05-30 14:25:55,498 (tts:304) INFO: ARGS: epochs: 3\n",
      "2020-05-30 14:25:55,498 (tts:304) INFO: ARGS: eps: 1e-06\n",
      "2020-05-30 14:25:55,498 (tts:304) INFO: ARGS: eunits: 512\n",
      "2020-05-30 14:25:55,498 (tts:304) INFO: ARGS: eval_interval_epochs: 1\n",
      "2020-05-30 14:25:55,498 (tts:304) INFO: ARGS: freeze_mods: None\n",
      "2020-05-30 14:25:55,498 (tts:304) INFO: ARGS: grad_clip: 1\n",
      "2020-05-30 14:25:55,498 (tts:304) INFO: ARGS: guided_attn_loss_lambda: 1.0\n",
      "2020-05-30 14:25:55,498 (tts:304) INFO: ARGS: guided_attn_loss_sigma: 0.4\n",
      "2020-05-30 14:25:55,499 (tts:304) INFO: ARGS: keep_all_data_on_mem: False\n",
      "2020-05-30 14:25:55,499 (tts:304) INFO: ARGS: lr: 0.001\n",
      "2020-05-30 14:25:55,499 (tts:304) INFO: ARGS: maxlen_in: 150\n",
      "2020-05-30 14:25:55,499 (tts:304) INFO: ARGS: maxlen_out: 400\n",
      "2020-05-30 14:25:55,499 (tts:304) INFO: ARGS: minibatches: 0\n",
      "2020-05-30 14:25:55,499 (tts:304) INFO: ARGS: model_module: espnet.nets.pytorch_backend.e2e_tts_tacotron2:Tacotron2\n",
      "2020-05-30 14:25:55,499 (tts:304) INFO: ARGS: ngpu: 1\n",
      "2020-05-30 14:25:55,499 (tts:304) INFO: ARGS: num_iter_processes: 0\n",
      "2020-05-30 14:25:55,499 (tts:304) INFO: ARGS: num_save_attention: 5\n",
      "2020-05-30 14:25:55,499 (tts:304) INFO: ARGS: opt: adam\n",
      "2020-05-30 14:25:55,499 (tts:304) INFO: ARGS: outdir: exp/train_nodev_pytorch_train_pytorch_tacotron2_sample/results\n",
      "2020-05-30 14:25:55,499 (tts:304) INFO: ARGS: output_activation: None\n",
      "2020-05-30 14:25:55,499 (tts:304) INFO: ARGS: patience: 5\n",
      "2020-05-30 14:25:55,499 (tts:304) INFO: ARGS: postnet_chans: 512\n",
      "2020-05-30 14:25:55,499 (tts:304) INFO: ARGS: postnet_filts: 5\n",
      "2020-05-30 14:25:55,499 (tts:304) INFO: ARGS: postnet_layers: 5\n",
      "2020-05-30 14:25:55,499 (tts:304) INFO: ARGS: prenet_layers: 2\n",
      "2020-05-30 14:25:55,500 (tts:304) INFO: ARGS: prenet_units: 256\n",
      "2020-05-30 14:25:55,500 (tts:304) INFO: ARGS: preprocess_conf: None\n",
      "2020-05-30 14:25:55,500 (tts:304) INFO: ARGS: pretrained_model: None\n",
      "2020-05-30 14:25:55,500 (tts:304) INFO: ARGS: reduction_factor: 2\n",
      "2020-05-30 14:25:55,500 (tts:304) INFO: ARGS: report_interval_iters: 100\n",
      "2020-05-30 14:25:55,500 (tts:304) INFO: ARGS: resume: exp/train_nodev_pytorch_train_pytorch_tacotron2_sample/results/snapshot.ep.2\n",
      "2020-05-30 14:25:55,500 (tts:304) INFO: ARGS: save_interval_epochs: 1\n",
      "2020-05-30 14:25:55,500 (tts:304) INFO: ARGS: seed: 1\n",
      "2020-05-30 14:25:55,500 (tts:304) INFO: ARGS: sortagrad: 0\n",
      "2020-05-30 14:25:55,500 (tts:304) INFO: ARGS: spc_dim: None\n",
      "2020-05-30 14:25:55,500 (tts:304) INFO: ARGS: spk_embed_dim: None\n",
      "2020-05-30 14:25:55,500 (tts:304) INFO: ARGS: tensorboard_dir: tensorboard/train_nodev_pytorch_train_pytorch_tacotron2_sample\n",
      "2020-05-30 14:25:55,500 (tts:304) INFO: ARGS: train_json: dump/train_nodev/data.json\n",
      "2020-05-30 14:25:55,500 (tts:304) INFO: ARGS: use_batch_norm: True\n",
      "2020-05-30 14:25:55,500 (tts:304) INFO: ARGS: use_cbhg: False\n",
      "2020-05-30 14:25:55,500 (tts:304) INFO: ARGS: use_concate: True\n",
      "2020-05-30 14:25:55,500 (tts:304) INFO: ARGS: use_guided_attn_loss: False\n",
      "2020-05-30 14:25:55,500 (tts:304) INFO: ARGS: use_masking: True\n",
      "2020-05-30 14:25:55,501 (tts:304) INFO: ARGS: use_residual: False\n",
      "2020-05-30 14:25:55,501 (tts:304) INFO: ARGS: use_second_target: False\n",
      "2020-05-30 14:25:55,501 (tts:304) INFO: ARGS: use_speaker_embedding: False\n",
      "2020-05-30 14:25:55,501 (tts:304) INFO: ARGS: use_weighted_masking: False\n",
      "2020-05-30 14:25:55,501 (tts:304) INFO: ARGS: valid_json: dump/train_dev/data.json\n",
      "2020-05-30 14:25:55,501 (tts:304) INFO: ARGS: verbose: 1\n",
      "2020-05-30 14:25:55,501 (tts:304) INFO: ARGS: weight_decay: 0.0\n",
      "2020-05-30 14:25:55,501 (tts:304) INFO: ARGS: zoneout_rate: 0.1\n",
      "2020-05-30 14:25:55,754 (tts:313) INFO: Tacotron2(\n",
      "  (enc): Encoder(\n",
      "    (embed): Embedding(30, 512, padding_idx=0)\n",
      "    (convs): ModuleList(\n",
      "      (0): Sequential(\n",
      "        (0): Conv1d(512, 512, kernel_size=(5,), stride=(1,), padding=(2,), bias=False)\n",
      "        (1): BatchNorm1d(512, eps=1e-05, momentum=0.1, affine=True, track_running_stats=True)\n",
      "        (2): ReLU()\n",
      "        (3): Dropout(p=0.5, inplace=False)\n",
      "      )\n",
      "      (1): Sequential(\n",
      "        (0): Conv1d(512, 512, kernel_size=(5,), stride=(1,), padding=(2,), bias=False)\n",
      "        (1): BatchNorm1d(512, eps=1e-05, momentum=0.1, affine=True, track_running_stats=True)\n",
      "        (2): ReLU()\n",
      "        (3): Dropout(p=0.5, inplace=False)\n",
      "      )\n",
      "      (2): Sequential(\n",
      "        (0): Conv1d(512, 512, kernel_size=(5,), stride=(1,), padding=(2,), bias=False)\n",
      "        (1): BatchNorm1d(512, eps=1e-05, momentum=0.1, affine=True, track_running_stats=True)\n",
      "        (2): ReLU()\n",
      "        (3): Dropout(p=0.5, inplace=False)\n",
      "      )\n",
      "    )\n",
      "    (blstm): LSTM(512, 256, batch_first=True, bidirectional=True)\n",
      "  )\n",
      "  (dec): Decoder(\n",
      "    (att): AttLoc(\n",
      "      (mlp_enc): Linear(in_features=512, out_features=128, bias=True)\n",
      "      (mlp_dec): Linear(in_features=1024, out_features=128, bias=False)\n",
      "      (mlp_att): Linear(in_features=32, out_features=128, bias=False)\n",
      "      (loc_conv): Conv2d(1, 32, kernel_size=(1, 31), stride=(1, 1), padding=(0, 15), bias=False)\n",
      "      (gvec): Linear(in_features=128, out_features=1, bias=True)\n",
      "    )\n",
      "    (lstm): ModuleList(\n",
      "      (0): ZoneOutCell(\n",
      "        (cell): LSTMCell(768, 1024)\n",
      "      )\n",
      "      (1): ZoneOutCell(\n",
      "        (cell): LSTMCell(1024, 1024)\n",
      "      )\n",
      "    )\n",
      "    (prenet): Prenet(\n",
      "      (prenet): ModuleList(\n",
      "        (0): Sequential(\n",
      "          (0): Linear(in_features=80, out_features=256, bias=True)\n",
      "          (1): ReLU()\n",
      "        )\n",
      "        (1): Sequential(\n",
      "          (0): Linear(in_features=256, out_features=256, bias=True)\n",
      "          (1): ReLU()\n",
      "        )\n",
      "      )\n",
      "    )\n",
      "    (postnet): Postnet(\n",
      "      (postnet): ModuleList(\n",
      "        (0): Sequential(\n",
      "          (0): Conv1d(80, 512, kernel_size=(5,), stride=(1,), padding=(2,), bias=False)\n",
      "          (1): BatchNorm1d(512, eps=1e-05, momentum=0.1, affine=True, track_running_stats=True)\n",
      "          (2): Tanh()\n",
      "          (3): Dropout(p=0.5, inplace=False)\n",
      "        )\n",
      "        (1): Sequential(\n",
      "          (0): Conv1d(512, 512, kernel_size=(5,), stride=(1,), padding=(2,), bias=False)\n",
      "          (1): BatchNorm1d(512, eps=1e-05, momentum=0.1, affine=True, track_running_stats=True)\n",
      "          (2): Tanh()\n",
      "          (3): Dropout(p=0.5, inplace=False)\n",
      "        )\n",
      "        (2): Sequential(\n",
      "          (0): Conv1d(512, 512, kernel_size=(5,), stride=(1,), padding=(2,), bias=False)\n",
      "          (1): BatchNorm1d(512, eps=1e-05, momentum=0.1, affine=True, track_running_stats=True)\n",
      "          (2): Tanh()\n",
      "          (3): Dropout(p=0.5, inplace=False)\n",
      "        )\n",
      "        (3): Sequential(\n",
      "          (0): Conv1d(512, 512, kernel_size=(5,), stride=(1,), padding=(2,), bias=False)\n",
      "          (1): BatchNorm1d(512, eps=1e-05, momentum=0.1, affine=True, track_running_stats=True)\n",
      "          (2): Tanh()\n",
      "          (3): Dropout(p=0.5, inplace=False)\n",
      "        )\n",
      "        (4): Sequential(\n",
      "          (0): Conv1d(512, 80, kernel_size=(5,), stride=(1,), padding=(2,), bias=False)\n",
      "          (1): BatchNorm1d(80, eps=1e-05, momentum=0.1, affine=True, track_running_stats=True)\n",
      "          (2): Dropout(p=0.5, inplace=False)\n",
      "        )\n",
      "      )\n",
      "    )\n",
      "    (feat_out): Linear(in_features=1536, out_features=160, bias=False)\n",
      "    (prob_out): Linear(in_features=1536, out_features=2, bias=True)\n",
      "  )\n",
      "  (taco2_loss): Tacotron2Loss(\n",
      "    (l1_criterion): L1Loss()\n",
      "    (mse_criterion): MSELoss()\n",
      "    (bce_criterion): BCEWithLogitsLoss()\n",
      "  )\n",
      ")\n",
      "2020-05-30 14:25:58,365 (batchfy:433) INFO: count is auto detected as seq\n",
      "2020-05-30 14:25:58,365 (batchfy:291) INFO: use shuffled batch.\n",
      "2020-05-30 14:25:58,366 (batchfy:293) INFO: # utts: 848\n",
      "2020-05-30 14:25:58,366 (batchfy:502) INFO: # minibatches: 27\n",
      "2020-05-30 14:25:58,366 (batchfy:433) INFO: count is auto detected as seq\n",
      "2020-05-30 14:25:58,367 (batchfy:291) INFO: use shuffled batch.\n",
      "2020-05-30 14:25:58,367 (batchfy:293) INFO: # utts: 100\n",
      "2020-05-30 14:25:58,367 (batchfy:502) INFO: # minibatches: 4\n",
      "2020-05-30 14:25:58,367 (tts:457) INFO: resumed from exp/train_nodev_pytorch_train_pytorch_tacotron2_sample/results/snapshot.ep.2\n",
      "\u001b[J/home/syzygianinfern0/miniconda3/envs/intern/lib/python3.7/site-packages/chainer/training/triggers/interval_trigger.py:92: UserWarning: The previous value of iteration is not saved. IntervalTrigger guesses it using current iteration. If this trigger is not called at every iteration, it may not work correctly.\n",
      "  'The previous value of iteration is not saved. '\n",
      "/home/syzygianinfern0/miniconda3/envs/intern/lib/python3.7/site-packages/chainer/training/triggers/interval_trigger.py:104: UserWarning: The previous value of epoch_detail is not saved. IntervalTrigger uses the value of trainer.updater.previous_epoch_detail. If this trigger is not called at every iteration, it may not work correctly.\n",
      "  'The previous value of epoch_detail is not saved. '\n",
      "/home/syzygianinfern0/miniconda3/envs/intern/lib/python3.7/site-packages/chainer/training/triggers/early_stopping_trigger.py:102: UserWarning: validation/main/loss is not in observation\n",
      "  warnings.warn('{} is not in observation'.format(self.monitor))\n",
      "# Accounting: time=51 threads=1\n",
      "# Ended (code 0) at Sat May 30 14:26:44 IST 2020, elapsed time 51 seconds\n"
     ]
    }
   ],
   "source": [
    "!cat exp/train_nodev_pytorch_train_pytorch_tacotron2_sample/train.log"
   ]
  },
  {
   "cell_type": "markdown",
   "metadata": {
    "colab_type": "text",
    "id": "JjkrYF-NeZoM"
   },
   "source": [
    "Also, we support tensorboard.  \n",
    "You can see the training log through tensorboard."
   ]
  },
  {
   "cell_type": "code",
   "execution_count": 29,
   "metadata": {
    "colab": {},
    "colab_type": "code",
    "id": "OqwnbGznmrgb"
   },
   "outputs": [
    {
     "data": {
      "text/html": [
       "\n",
       "      <iframe id=\"tensorboard-frame-c281c60eb0c5c8d4\" width=\"100%\" height=\"800\" frameborder=\"0\">\n",
       "      </iframe>\n",
       "      <script>\n",
       "        (function() {\n",
       "          const frame = document.getElementById(\"tensorboard-frame-c281c60eb0c5c8d4\");\n",
       "          const url = new URL(\"/\", window.location);\n",
       "          url.port = 6006;\n",
       "          frame.src = url;\n",
       "        })();\n",
       "      </script>\n",
       "  "
      ],
      "text/plain": [
       "<IPython.core.display.HTML object>"
      ]
     },
     "metadata": {},
     "output_type": "display_data"
    }
   ],
   "source": [
    "%load_ext tensorboard\n",
    "%tensorboard --logdir tensorboard/train_nodev_pytorch_train_pytorch_tacotron2_sample/"
   ]
  },
  {
   "cell_type": "markdown",
   "metadata": {
    "colab_type": "text",
    "id": "88UvHDgGJSLX"
   },
   "source": [
    "### Stage 4: Network decoding\n",
    "\n",
    "This stage performs decoding using the trained model to generate mel-spectrogram from a given text.  \n"
   ]
  },
  {
   "cell_type": "code",
   "execution_count": 30,
   "metadata": {
    "colab": {},
    "colab_type": "code",
    "id": "PjVP2QPXBmav"
   },
   "outputs": [
    {
     "name": "stdout",
     "output_type": "stream",
     "text": [
      "dictionary: data/lang_1char/train_nodev_units.txt\n",
      "stage 4: Decoding\n",
      "2020-05-30 14:26:46,359 (splitjson:43) INFO: /home/syzygianinfern0/miniconda3/envs/intern/bin/python3 /mnt/nvme0n1p5/Code/Intern/espnet/egs/an4/tts1/../../../utils/splitjson.py --parts 8 exp/train_nodev_pytorch_train_pytorch_tacotron2_sample/outputs_model.loss.best_decode/train_dev/data.json\n",
      "2020-05-30 14:26:46,361 (splitjson:55) INFO: number of utterances = 100\n",
      "2020-05-30 14:26:46,384 (splitjson:43) INFO: /home/syzygianinfern0/miniconda3/envs/intern/bin/python3 /mnt/nvme0n1p5/Code/Intern/espnet/egs/an4/tts1/../../../utils/splitjson.py --parts 8 exp/train_nodev_pytorch_train_pytorch_tacotron2_sample/outputs_model.loss.best_decode/test/data.json\n",
      "2020-05-30 14:26:46,386 (splitjson:55) INFO: number of utterances = 130\n"
     ]
    }
   ],
   "source": [
    "!./run.sh --stage 4 --stop_stage 4 --nj 8 --train_config conf/train_pytorch_tacotron2_sample.yaml "
   ]
  },
  {
   "cell_type": "markdown",
   "metadata": {
    "colab_type": "text",
    "id": "I7-8ja9kcdDG"
   },
   "source": [
    "Generated features are saved as ark/scp format."
   ]
  },
  {
   "cell_type": "code",
   "execution_count": 31,
   "metadata": {
    "colab": {},
    "colab_type": "code",
    "id": "8V_g_VbDckjT"
   },
   "outputs": [
    {
     "name": "stdout",
     "output_type": "stream",
     "text": [
      "exp/train_nodev_pytorch_train_pytorch_tacotron2_sample/outputs_model.loss.best_decode/test:\n",
      "att_ws\t     feats.2.ark  feats.4.ark  feats.6.ark  feats.8.ark  probs\n",
      "data.json    feats.2.scp  feats.4.scp  feats.6.scp  feats.8.scp  split8utt\n",
      "feats.1.ark  feats.3.ark  feats.5.ark  feats.7.ark  feats.scp\n",
      "feats.1.scp  feats.3.scp  feats.5.scp  feats.7.scp  log\n",
      "\n",
      "exp/train_nodev_pytorch_train_pytorch_tacotron2_sample/outputs_model.loss.best_decode/train_dev:\n",
      "att_ws\t     feats.2.ark  feats.4.ark  feats.6.ark  feats.8.ark  probs\n",
      "data.json    feats.2.scp  feats.4.scp  feats.6.scp  feats.8.scp  split8utt\n",
      "feats.1.ark  feats.3.ark  feats.5.ark  feats.7.ark  feats.scp\n",
      "feats.1.scp  feats.3.scp  feats.5.scp  feats.7.scp  log\n"
     ]
    }
   ],
   "source": [
    "!ls exp/train_nodev_pytorch_train_pytorch_tacotron2_sample/outputs_model.loss.best_decode/*"
   ]
  },
  {
   "cell_type": "markdown",
   "metadata": {
    "colab_type": "text",
    "id": "eLvdP4z9cJKc"
   },
   "source": [
    "We can specify the model or snapshot to be used for decoding via **--model**.   "
   ]
  },
  {
   "cell_type": "code",
   "execution_count": 32,
   "metadata": {
    "colab": {},
    "colab_type": "code",
    "id": "_Op5GAW6cM7q"
   },
   "outputs": [
    {
     "name": "stdout",
     "output_type": "stream",
     "text": [
      "dictionary: data/lang_1char/train_nodev_units.txt\n",
      "stage 4: Decoding\n",
      "2020-05-30 14:28:57,388 (splitjson:43) INFO: /home/syzygianinfern0/miniconda3/envs/intern/bin/python3 /mnt/nvme0n1p5/Code/Intern/espnet/egs/an4/tts1/../../../utils/splitjson.py --parts 8 exp/train_nodev_pytorch_train_pytorch_tacotron2_sample/outputs_snapshot.ep.2_decode/test/data.json\n",
      "2020-05-30 14:28:57,389 (splitjson:55) INFO: number of utterances = 130\n",
      "2020-05-30 14:28:57,390 (splitjson:43) INFO: /home/syzygianinfern0/miniconda3/envs/intern/bin/python3 /mnt/nvme0n1p5/Code/Intern/espnet/egs/an4/tts1/../../../utils/splitjson.py --parts 8 exp/train_nodev_pytorch_train_pytorch_tacotron2_sample/outputs_snapshot.ep.2_decode/train_dev/data.json\n",
      "2020-05-30 14:28:57,391 (splitjson:55) INFO: number of utterances = 100\n"
     ]
    }
   ],
   "source": [
    "!./run.sh --stage 4 --stop_stage 4 --nj 8 --train_config conf/train_pytorch_tacotron2_sample.yaml --model snapshot.ep.2"
   ]
  },
  {
   "cell_type": "code",
   "execution_count": 33,
   "metadata": {
    "colab": {},
    "colab_type": "code",
    "id": "hFowPMOsdvY9"
   },
   "outputs": [
    {
     "name": "stdout",
     "output_type": "stream",
     "text": [
      "exp/train_nodev_pytorch_train_pytorch_tacotron2_sample/outputs_snapshot.ep.2_decode/test:\n",
      "att_ws\t     feats.2.ark  feats.4.ark  feats.6.ark  feats.8.ark  probs\n",
      "data.json    feats.2.scp  feats.4.scp  feats.6.scp  feats.8.scp  split8utt\n",
      "feats.1.ark  feats.3.ark  feats.5.ark  feats.7.ark  feats.scp\n",
      "feats.1.scp  feats.3.scp  feats.5.scp  feats.7.scp  log\n",
      "\n",
      "exp/train_nodev_pytorch_train_pytorch_tacotron2_sample/outputs_snapshot.ep.2_decode/train_dev:\n",
      "att_ws\t     feats.2.ark  feats.4.ark  feats.6.ark  feats.8.ark  probs\n",
      "data.json    feats.2.scp  feats.4.scp  feats.6.scp  feats.8.scp  split8utt\n",
      "feats.1.ark  feats.3.ark  feats.5.ark  feats.7.ark  feats.scp\n",
      "feats.1.scp  feats.3.scp  feats.5.scp  feats.7.scp  log\n"
     ]
    }
   ],
   "source": [
    "!ls exp/train_nodev_pytorch_train_pytorch_tacotron2_sample/outputs_snapshot.ep.2_decode/*"
   ]
  },
  {
   "cell_type": "markdown",
   "metadata": {
    "colab_type": "text",
    "id": "9A74Jv8KL_FC"
   },
   "source": [
    "### Stage 5: Waveform synthesis\n",
    "\n",
    "Finally, in this stage, we generate waveform using Grrifin-Lim algorithm.  \n",
    "First, we perform de-normalization to convert the generated mel-spectrogram into the original scale.  \n",
    "Then we apply Grrifin-Lim algorithm to restore phase components and apply inverse STFT to generate waveforms."
   ]
  },
  {
   "cell_type": "code",
   "execution_count": 34,
   "metadata": {
    "colab": {},
    "colab_type": "code",
    "id": "wasoVKklc4eS"
   },
   "outputs": [
    {
     "name": "stdout",
     "output_type": "stream",
     "text": [
      "dictionary: data/lang_1char/train_nodev_units.txt\n",
      "stage 5: Synthesis\n",
      "apply-cmvn --norm-vars=true --reverse=true data/train_nodev/cmvn.ark scp:exp/train_nodev_pytorch_train_pytorch_tacotron2_sample/outputs_model.loss.best_decode/test/feats.scp ark,scp:exp/train_nodev_pytorch_train_pytorch_tacotron2_sample/outputs_model.loss.best_decode_denorm/test/feats.ark,exp/train_nodev_pytorch_train_pytorch_tacotron2_sample/outputs_model.loss.best_decode_denorm/test/feats.scp \n",
      "apply-cmvn --norm-vars=true --reverse=true data/train_nodev/cmvn.ark scp:exp/train_nodev_pytorch_train_pytorch_tacotron2_sample/outputs_model.loss.best_decode/train_dev/feats.scp ark,scp:exp/train_nodev_pytorch_train_pytorch_tacotron2_sample/outputs_model.loss.best_decode_denorm/train_dev/feats.ark,exp/train_nodev_pytorch_train_pytorch_tacotron2_sample/outputs_model.loss.best_decode_denorm/train_dev/feats.scp \n",
      "LOG (apply-cmvn[5.5.428~1-29b3]:main():apply-cmvn.cc:159) Applied cepstral mean and variance normalization to 100 utterances, errors on 0\n",
      "LOG (apply-cmvn[5.5.428~1-29b3]:main():apply-cmvn.cc:159) Applied cepstral mean and variance normalization to 130 utterances, errors on 0\n",
      "/mnt/nvme0n1p5/Code/Intern/espnet/egs/an4/tts1/../../../utils/convert_fbank.sh --nj 8 --cmd run.pl --fs 16000 --fmax  --fmin  --n_fft 1024 --n_shift 256 --win_length  --n_mels 80 --iters 50 exp/train_nodev_pytorch_train_pytorch_tacotron2_sample/outputs_model.loss.best_decode_denorm/train_dev exp/train_nodev_pytorch_train_pytorch_tacotron2_sample/outputs_model.loss.best_decode_denorm/train_dev/log exp/train_nodev_pytorch_train_pytorch_tacotron2_sample/outputs_model.loss.best_decode_denorm/train_dev/wav\n",
      "/mnt/nvme0n1p5/Code/Intern/espnet/egs/an4/tts1/../../../utils/convert_fbank.sh --nj 8 --cmd run.pl --fs 16000 --fmax  --fmin  --n_fft 1024 --n_shift 256 --win_length  --n_mels 80 --iters 50 exp/train_nodev_pytorch_train_pytorch_tacotron2_sample/outputs_model.loss.best_decode_denorm/test exp/train_nodev_pytorch_train_pytorch_tacotron2_sample/outputs_model.loss.best_decode_denorm/test/log exp/train_nodev_pytorch_train_pytorch_tacotron2_sample/outputs_model.loss.best_decode_denorm/test/wav\n",
      "Succeeded creating wav for train_dev\n",
      "Succeeded creating wav for test\n",
      "Finished.\n"
     ]
    }
   ],
   "source": [
    "!./run.sh --stage 5 --stop_stage 5 --nj 8 --train_config conf/train_pytorch_tacotron2_sample.yaml --griffin_lim_iters 50"
   ]
  },
  {
   "cell_type": "markdown",
   "metadata": {
    "colab_type": "text",
    "id": "E7eoOkRYeIhN"
   },
   "source": [
    "Generated wav files are saved in `exp/train_nodev_pytorch_train_pytorch_tacotron2_sample/outputs_model.loss.best_decode_denorm/*/wav`"
   ]
  },
  {
   "cell_type": "code",
   "execution_count": 35,
   "metadata": {
    "colab": {},
    "colab_type": "code",
    "id": "r-pfSNMheHdf"
   },
   "outputs": [
    {
     "name": "stdout",
     "output_type": "stream",
     "text": [
      "exp/train_nodev_pytorch_train_pytorch_tacotron2_sample/outputs_model.loss.best_decode_denorm/test/wav:\n",
      "fcaw-an406-b.wav  fvap-cen3-b.wav    menk-an422-b.wav  mjgm-cen4-b.wav\n",
      "fcaw-an407-b.wav  fvap-cen4-b.wav    menk-an423-b.wav  mjgm-cen5-b.wav\n",
      "fcaw-an408-b.wav  fvap-cen5-b.wav    menk-an424-b.wav  mjgm-cen6-b.wav\n",
      "fcaw-an409-b.wav  fvap-cen6-b.wav    menk-an425-b.wav  mjgm-cen7-b.wav\n",
      "fcaw-an410-b.wav  fvap-cen7-b.wav    menk-cen1-b.wav   mjgm-cen8-b.wav\n",
      "fcaw-cen1-b.wav   fvap-cen8-b.wav    menk-cen2-b.wav   mjwl-an391-b.wav\n",
      "fcaw-cen2-b.wav   marh-an431-b.wav   menk-cen3-b.wav   mjwl-an392-b.wav\n",
      "fcaw-cen3-b.wav   marh-an432-b.wav   menk-cen4-b.wav   mjwl-an393-b.wav\n",
      "fcaw-cen4-b.wav   marh-an433-b.wav   menk-cen5-b.wav   mjwl-an394-b.wav\n",
      "fcaw-cen5-b.wav   marh-an434-b.wav   menk-cen6-b.wav   mjwl-an395-b.wav\n",
      "fcaw-cen6-b.wav   marh-an435-b.wav   menk-cen7-b.wav   mjwl-cen1-b.wav\n",
      "fcaw-cen7-b.wav   marh-cen1-b.wav    menk-cen8-b.wav   mjwl-cen2-b.wav\n",
      "fcaw-cen8-b.wav   marh-cen2-b.wav    miry-an396-b.wav  mjwl-cen3-b.wav\n",
      "fjlp-an416-b.wav  marh-cen3-b.wav    miry-an397-b.wav  mjwl-cen4-b.wav\n",
      "fjlp-an417-b.wav  marh-cen4-b.wav    miry-an398-b.wav  mjwl-cen5-b.wav\n",
      "fjlp-an418-b.wav  marh-cen5-b.wav    miry-an399-b.wav  mjwl-cen6-b.wav\n",
      "fjlp-an419-b.wav  marh-cen6-b.wav    miry-an400-b.wav  mjwl-cen7-b.wav\n",
      "fjlp-an420-b.wav  marh-cen7-b.wav    miry-cen1-b.wav   mjwl-cen8-b.wav\n",
      "fjlp-cen1-b.wav   marh-cen8-b.wav    miry-cen2-b.wav   mmxg-an441-b.wav\n",
      "fjlp-cen2-b.wav   mdms2-an401-b.wav  miry-cen3-b.wav   mmxg-an442-b.wav\n",
      "fjlp-cen3-b.wav   mdms2-an402-b.wav  miry-cen4-b.wav   mmxg-an443-b.wav\n",
      "fjlp-cen4-b.wav   mdms2-an403-b.wav  miry-cen5-b.wav   mmxg-an444-b.wav\n",
      "fjlp-cen5-b.wav   mdms2-an404-b.wav  miry-cen6-b.wav   mmxg-an445-b.wav\n",
      "fjlp-cen6-b.wav   mdms2-an405-b.wav  miry-cen7-b.wav   mmxg-cen1-b.wav\n",
      "fjlp-cen7-b.wav   mdms2-cen1-b.wav   miry-cen8-b.wav   mmxg-cen2-b.wav\n",
      "fjlp-cen8-b.wav   mdms2-cen2-b.wav   mjgm-an436-b.wav  mmxg-cen3-b.wav\n",
      "fvap-an426-b.wav  mdms2-cen3-b.wav   mjgm-an437-b.wav  mmxg-cen4-b.wav\n",
      "fvap-an427-b.wav  mdms2-cen4-b.wav   mjgm-an438-b.wav  mmxg-cen5-b.wav\n",
      "fvap-an428-b.wav  mdms2-cen5-b.wav   mjgm-an439-b.wav  mmxg-cen6-b.wav\n",
      "fvap-an429-b.wav  mdms2-cen6-b.wav   mjgm-an440-b.wav  mmxg-cen7-b.wav\n",
      "fvap-an430-b.wav  mdms2-cen7-b.wav   mjgm-cen1-b.wav   mmxg-cen8-b.wav\n",
      "fvap-cen1-b.wav   mdms2-cen8-b.wav   mjgm-cen2-b.wav\n",
      "fvap-cen2-b.wav   menk-an421-b.wav   mjgm-cen3-b.wav\n",
      "\n",
      "exp/train_nodev_pytorch_train_pytorch_tacotron2_sample/outputs_model.loss.best_decode_denorm/train_dev/wav:\n",
      "fash-an251-b.wav  fclc-an149-b.wav  ffmm-an293-b.wav  fjdn-an122-b.wav\n",
      "fash-an253-b.wav  fclc-an150-b.wav  ffmm-an294-b.wav  fjdn-an123-b.wav\n",
      "fash-an254-b.wav  fclc-cen1-b.wav   ffmm-an295-b.wav  fjdn-an124-b.wav\n",
      "fash-an255-b.wav  fclc-cen2-b.wav   ffmm-cen1-b.wav   fjdn-an125-b.wav\n",
      "fash-cen1-b.wav   fclc-cen3-b.wav   ffmm-cen2-b.wav   fjdn-cen1-b.wav\n",
      "fash-cen2-b.wav   fclc-cen4-b.wav   ffmm-cen3-b.wav   fjdn-cen2-b.wav\n",
      "fash-cen4-b.wav   fclc-cen5-b.wav   ffmm-cen4-b.wav   fjdn-cen3-b.wav\n",
      "fash-cen5-b.wav   fclc-cen6-b.wav   ffmm-cen5-b.wav   fjdn-cen4-b.wav\n",
      "fash-cen7-b.wav   fclc-cen7-b.wav   ffmm-cen6-b.wav   fjdn-cen5-b.wav\n",
      "fbbh-an86-b.wav   fclc-cen8-b.wav   ffmm-cen7-b.wav   fjdn-cen6-b.wav\n",
      "fbbh-an87-b.wav   fejs-an36-b.wav   ffmm-cen8-b.wav   fjdn-cen7-b.wav\n",
      "fbbh-an88-b.wav   fejs-an37-b.wav   fjam-an76-b.wav   fjdn-cen8-b.wav\n",
      "fbbh-an89-b.wav   fejs-an38-b.wav   fjam-an77-b.wav   fjmd-an10-b.wav\n",
      "fbbh-an90-b.wav   fejs-an39-b.wav   fjam-an78-b.wav   fjmd-an6-b.wav\n",
      "fbbh-cen1-b.wav   fejs-an40-b.wav   fjam-an79-b.wav   fjmd-an7-b.wav\n",
      "fbbh-cen2-b.wav   fejs-cen1-b.wav   fjam-an80-b.wav   fjmd-an8-b.wav\n",
      "fbbh-cen3-b.wav   fejs-cen2-b.wav   fjam-cen1-b.wav   fjmd-an9-b.wav\n",
      "fbbh-cen4-b.wav   fejs-cen3-b.wav   fjam-cen2-b.wav   fjmd-cen1-b.wav\n",
      "fbbh-cen5-b.wav   fejs-cen4-b.wav   fjam-cen3-b.wav   fjmd-cen2-b.wav\n",
      "fbbh-cen6-b.wav   fejs-cen5-b.wav   fjam-cen4-b.wav   fjmd-cen3-b.wav\n",
      "fbbh-cen7-b.wav   fejs-cen6-b.wav   fjam-cen5-b.wav   fjmd-cen4-b.wav\n",
      "fbbh-cen8-b.wav   fejs-cen7-b.wav   fjam-cen6-b.wav   fjmd-cen5-b.wav\n",
      "fclc-an146-b.wav  fejs-cen8-b.wav   fjam-cen7-b.wav   fjmd-cen6-b.wav\n",
      "fclc-an147-b.wav  ffmm-an291-b.wav  fjam-cen8-b.wav   fjmd-cen7-b.wav\n",
      "fclc-an148-b.wav  ffmm-an292-b.wav  fjdn-an121-b.wav  fjmd-cen8-b.wav\n"
     ]
    }
   ],
   "source": [
    "!ls exp/train_nodev_pytorch_train_pytorch_tacotron2_sample/outputs_model.loss.best_decode_denorm/*/wav"
   ]
  },
  {
   "cell_type": "code",
   "execution_count": 36,
   "metadata": {
    "colab": {},
    "colab_type": "code",
    "id": "kp6LcFfih0hJ"
   },
   "outputs": [
    {
     "name": "stdout",
     "output_type": "stream",
     "text": [
      "\u001b[01;34m.\u001b[00m\n",
      "├── \u001b[01;32mcmd.sh\u001b[00m\n",
      "├── \u001b[01;34mconf\u001b[00m\n",
      "│   ├── \u001b[01;32mdecode.yaml\u001b[00m\n",
      "│   ├── \u001b[01;32mgpu.conf\u001b[00m\n",
      "│   ├── \u001b[01;32mslurm.conf\u001b[00m\n",
      "│   ├── \u001b[01;32mtrain_pytorch_tacotron2_sample.yaml\u001b[00m\n",
      "│   └── \u001b[01;32mtrain_pytorch_tacotron2.yaml\u001b[00m\n",
      "├── \u001b[01;34mdata\u001b[00m\n",
      "│   ├── \u001b[01;34mlang_1char\u001b[00m\n",
      "│   │   └── \u001b[01;32mtrain_nodev_units.txt\u001b[00m\n",
      "│   ├── \u001b[01;34mtest\u001b[00m\n",
      "│   │   ├── \u001b[01;32mfeats.scp\u001b[00m\n",
      "│   │   ├── \u001b[01;32mfiletype\u001b[00m\n",
      "│   │   ├── \u001b[01;32mspk2utt\u001b[00m\n",
      "│   │   ├── \u001b[01;32mtext\u001b[00m\n",
      "│   │   ├── \u001b[01;32mutt2num_frames\u001b[00m\n",
      "│   │   ├── \u001b[01;32mutt2spk\u001b[00m\n",
      "│   │   └── \u001b[01;32mwav.scp\u001b[00m\n",
      "│   ├── \u001b[01;34mtrain\u001b[00m\n",
      "│   │   ├── \u001b[01;32mfeats.scp\u001b[00m\n",
      "│   │   ├── \u001b[01;32mfiletype\u001b[00m\n",
      "│   │   ├── \u001b[01;32mspk2utt\u001b[00m\n",
      "│   │   ├── \u001b[01;32mtext\u001b[00m\n",
      "│   │   ├── \u001b[01;32mutt2num_frames\u001b[00m\n",
      "│   │   ├── \u001b[01;32mutt2spk\u001b[00m\n",
      "│   │   └── \u001b[01;32mwav.scp\u001b[00m\n",
      "│   ├── \u001b[01;34mtrain_dev\u001b[00m\n",
      "│   │   ├── \u001b[01;32mfeats.scp\u001b[00m\n",
      "│   │   ├── \u001b[01;32mspk2utt\u001b[00m\n",
      "│   │   ├── \u001b[01;32mtext\u001b[00m\n",
      "│   │   ├── \u001b[01;32mutt2num_frames\u001b[00m\n",
      "│   │   ├── \u001b[01;32mutt2spk\u001b[00m\n",
      "│   │   └── \u001b[01;32mwav.scp\u001b[00m\n",
      "│   └── \u001b[01;34mtrain_nodev\u001b[00m\n",
      "│       ├── \u001b[01;32mcmvn.ark\u001b[00m\n",
      "│       ├── \u001b[01;32mfeats.scp\u001b[00m\n",
      "│       ├── \u001b[01;32mspk2utt\u001b[00m\n",
      "│       ├── \u001b[01;32mtext\u001b[00m\n",
      "│       ├── \u001b[01;32mutt2num_frames\u001b[00m\n",
      "│       ├── \u001b[01;32mutt2spk\u001b[00m\n",
      "│       └── \u001b[01;32mwav.scp\u001b[00m\n",
      "├── \u001b[01;34mdownloads\u001b[00m\n",
      "│   ├── \u001b[01;34man4\u001b[00m\n",
      "│   │   ├── \u001b[01;34metc\u001b[00m\n",
      "│   │   ├── \u001b[01;32mLICENSE\u001b[00m\n",
      "│   │   ├── \u001b[01;32mREADME\u001b[00m\n",
      "│   │   └── \u001b[01;34mwav\u001b[00m\n",
      "│   └── \u001b[01;32man4_sphere.tar.gz\u001b[00m\n",
      "├── \u001b[01;34mdump\u001b[00m\n",
      "│   ├── \u001b[01;34mtest\u001b[00m\n",
      "│   │   ├── \u001b[01;32mdata.json\u001b[00m\n",
      "│   │   ├── \u001b[01;32mfeats.1.ark\u001b[00m\n",
      "│   │   ├── \u001b[01;32mfeats.1.scp\u001b[00m\n",
      "│   │   ├── \u001b[01;32mfeats.2.ark\u001b[00m\n",
      "│   │   ├── \u001b[01;32mfeats.2.scp\u001b[00m\n",
      "│   │   ├── \u001b[01;32mfeats.3.ark\u001b[00m\n",
      "│   │   ├── \u001b[01;32mfeats.3.scp\u001b[00m\n",
      "│   │   ├── \u001b[01;32mfeats.4.ark\u001b[00m\n",
      "│   │   ├── \u001b[01;32mfeats.4.scp\u001b[00m\n",
      "│   │   ├── \u001b[01;32mfeats.scp\u001b[00m\n",
      "│   │   ├── \u001b[01;32mfiletype\u001b[00m\n",
      "│   │   ├── \u001b[01;34mlog\u001b[00m\n",
      "│   │   └── \u001b[01;32mutt2num_frames\u001b[00m\n",
      "│   ├── \u001b[01;34mtrain_dev\u001b[00m\n",
      "│   │   ├── \u001b[01;32mdata.json\u001b[00m\n",
      "│   │   ├── \u001b[01;32mfeats.1.ark\u001b[00m\n",
      "│   │   ├── \u001b[01;32mfeats.1.scp\u001b[00m\n",
      "│   │   ├── \u001b[01;32mfeats.2.ark\u001b[00m\n",
      "│   │   ├── \u001b[01;32mfeats.2.scp\u001b[00m\n",
      "│   │   ├── \u001b[01;32mfeats.3.ark\u001b[00m\n",
      "│   │   ├── \u001b[01;32mfeats.3.scp\u001b[00m\n",
      "│   │   ├── \u001b[01;32mfeats.4.ark\u001b[00m\n",
      "│   │   ├── \u001b[01;32mfeats.4.scp\u001b[00m\n",
      "│   │   ├── \u001b[01;32mfeats.scp\u001b[00m\n",
      "│   │   ├── \u001b[01;32mfiletype\u001b[00m\n",
      "│   │   ├── \u001b[01;34mlog\u001b[00m\n",
      "│   │   └── \u001b[01;32mutt2num_frames\u001b[00m\n",
      "│   └── \u001b[01;34mtrain_nodev\u001b[00m\n",
      "│       ├── \u001b[01;32mdata.json\u001b[00m\n",
      "│       ├── \u001b[01;32mfeats.1.ark\u001b[00m\n",
      "│       ├── \u001b[01;32mfeats.1.scp\u001b[00m\n",
      "│       ├── \u001b[01;32mfeats.2.ark\u001b[00m\n",
      "│       ├── \u001b[01;32mfeats.2.scp\u001b[00m\n",
      "│       ├── \u001b[01;32mfeats.3.ark\u001b[00m\n",
      "│       ├── \u001b[01;32mfeats.3.scp\u001b[00m\n",
      "│       ├── \u001b[01;32mfeats.4.ark\u001b[00m\n",
      "│       ├── \u001b[01;32mfeats.4.scp\u001b[00m\n",
      "│       ├── \u001b[01;32mfeats.scp\u001b[00m\n",
      "│       ├── \u001b[01;32mfiletype\u001b[00m\n",
      "│       ├── \u001b[01;34mlog\u001b[00m\n",
      "│       └── \u001b[01;32mutt2num_frames\u001b[00m\n",
      "├── \u001b[01;34mexp\u001b[00m\n",
      "│   ├── \u001b[01;34mdump_feats\u001b[00m\n",
      "│   │   ├── \u001b[01;34mdev\u001b[00m\n",
      "│   │   ├── \u001b[01;34meval\u001b[00m\n",
      "│   │   └── \u001b[01;34mtrain\u001b[00m\n",
      "│   ├── \u001b[01;34mmake_fbank\u001b[00m\n",
      "│   │   ├── \u001b[01;34mtest\u001b[00m\n",
      "│   │   └── \u001b[01;34mtrain\u001b[00m\n",
      "│   ├── \u001b[01;34mtrain_nodev_pytorch_train_pytorch_tacotron2\u001b[00m\n",
      "│   └── \u001b[01;34mtrain_nodev_pytorch_train_pytorch_tacotron2_sample\u001b[00m\n",
      "│       ├── \u001b[01;34moutputs_model.loss.best_decode\u001b[00m\n",
      "│       ├── \u001b[01;34moutputs_model.loss.best_decode_denorm\u001b[00m\n",
      "│       ├── \u001b[01;34moutputs_snapshot.ep.2_decode\u001b[00m\n",
      "│       ├── \u001b[01;34mresults\u001b[00m\n",
      "│       └── \u001b[01;32mtrain.log\u001b[00m\n",
      "├── \u001b[01;34mfbank\u001b[00m\n",
      "│   ├── \u001b[01;32mraw_fbank_test.1.ark\u001b[00m\n",
      "│   ├── \u001b[01;32mraw_fbank_test.1.scp\u001b[00m\n",
      "│   ├── \u001b[01;32mraw_fbank_test.2.ark\u001b[00m\n",
      "│   ├── \u001b[01;32mraw_fbank_test.2.scp\u001b[00m\n",
      "│   ├── \u001b[01;32mraw_fbank_test.3.ark\u001b[00m\n",
      "│   ├── \u001b[01;32mraw_fbank_test.3.scp\u001b[00m\n",
      "│   ├── \u001b[01;32mraw_fbank_test.4.ark\u001b[00m\n",
      "│   ├── \u001b[01;32mraw_fbank_test.4.scp\u001b[00m\n",
      "│   ├── \u001b[01;32mraw_fbank_train.1.ark\u001b[00m\n",
      "│   ├── \u001b[01;32mraw_fbank_train.1.scp\u001b[00m\n",
      "│   ├── \u001b[01;32mraw_fbank_train.2.ark\u001b[00m\n",
      "│   ├── \u001b[01;32mraw_fbank_train.2.scp\u001b[00m\n",
      "│   ├── \u001b[01;32mraw_fbank_train.3.ark\u001b[00m\n",
      "│   ├── \u001b[01;32mraw_fbank_train.3.scp\u001b[00m\n",
      "│   ├── \u001b[01;32mraw_fbank_train.4.ark\u001b[00m\n",
      "│   └── \u001b[01;32mraw_fbank_train.4.scp\u001b[00m\n",
      "├── \u001b[01;36mlocal\u001b[00m -> \u001b[01;34m../asr1/local\u001b[00m\n",
      "├── \u001b[01;32mpath.sh\u001b[00m\n",
      "├── \u001b[01;32mrun.sh\u001b[00m\n",
      "├── \u001b[01;36msteps\u001b[00m -> \u001b[01;34m../../../tools/kaldi/egs/wsj/s5/steps\u001b[00m\n",
      "├── \u001b[01;34mtensorboard\u001b[00m\n",
      "│   └── \u001b[01;34mtrain_nodev_pytorch_train_pytorch_tacotron2_sample\u001b[00m\n",
      "│       ├── \u001b[01;32mevents.out.tfevents.1590828836.azkaban\u001b[00m\n",
      "│       └── \u001b[01;32mevents.out.tfevents.1590828958.azkaban\u001b[00m\n",
      "└── \u001b[01;36mutils\u001b[00m -> \u001b[01;34m../../../tools/kaldi/egs/wsj/s5/utils\u001b[00m\n",
      "\n",
      "38 directories, 94 files\n"
     ]
    }
   ],
   "source": [
    "!tree -L 3"
   ]
  },
  {
   "cell_type": "markdown",
   "metadata": {
    "colab_type": "text",
    "id": "ti5PArvce6HU"
   },
   "source": [
    "## NEXT step\n",
    "\n",
    "- Try pretrained model to generate speech.\n",
    "- Try a large single speaker dataset recipe **egs/ljspeech/tts1**.\n",
    "- Try a large multi-speaker recipe **egs/libritts/tts1**.\n",
    "- Make the original recipe using your own dataset."
   ]
  }
 ],
 "metadata": {
  "accelerator": "GPU",
  "colab": {
   "collapsed_sections": [],
   "name": "tts_an4.ipynb",
   "provenance": [],
   "version": "0.3.2"
  },
  "kernelspec": {
   "display_name": "Python 3",
   "language": "python",
   "name": "python3"
  },
  "language_info": {
   "codemirror_mode": {
    "name": "ipython",
    "version": 3
   },
   "file_extension": ".py",
   "mimetype": "text/x-python",
   "name": "python",
   "nbconvert_exporter": "python",
   "pygments_lexer": "ipython3",
   "version": "3.7.7"
  }
 },
 "nbformat": 4,
 "nbformat_minor": 4
}
